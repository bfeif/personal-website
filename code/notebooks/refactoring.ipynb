{
 "cells": [
  {
   "cell_type": "code",
   "execution_count": 1,
   "id": "36e36035",
   "metadata": {},
   "outputs": [],
   "source": [
    "import os\n",
    "import matplotlib.pyplot as plt\n",
    "import numpy as np"
   ]
  },
  {
   "cell_type": "code",
   "execution_count": 2,
   "id": "2952dde4",
   "metadata": {},
   "outputs": [],
   "source": [
    "home = \"../..\"\n",
    "images_dir = os.path.join(home, \"static/images/\")\n",
    "plt.rcParams['figure.figsize'] = [5, 5]"
   ]
  },
  {
   "cell_type": "code",
   "execution_count": 3,
   "id": "5c8534e8",
   "metadata": {},
   "outputs": [
    {
     "name": "stderr",
     "output_type": "stream",
     "text": [
      "/var/folders/b2/jb3gxb8n1wj854vrch7743s9dh1j82/T/ipykernel_15880/3481591475.py:2: RuntimeWarning: invalid value encountered in log2\n",
      "  log_x = np.log2(x) + 2\n"
     ]
    },
    {
     "data": {
      "image/png": "[encoded data removed]",
      "text/plain": [
       "<Figure size 500x500 with 1 Axes>"
      ]
     },
     "metadata": {},
     "output_type": "display_data"
    }
   ],
   "source": [
    "x = np.linspace(-10, 10, 1000)\n",
    "log_x = np.log2(x) + 2\n",
    "x_pow_e = np.exp2(x - 2)\n",
    "plt.plot(x, log_x)\n",
    "plt.plot(x, x_pow_e)\n",
    "plt.xlim((.3, 10))\n",
    "plt.ylim((.3, 10))\n",
    "plt.savefig(os.path.join(images_dir, \"log_vs_exponential_returns.png\"))"
   ]
  },
  {
   "cell_type": "markdown",
   "id": "6a1d7696",
   "metadata": {},
   "source": [
    "## Refactoring Example"
   ]
  },
  {
   "cell_type": "code",
   "execution_count": 21,
   "id": "b854a76f",
   "metadata": {},
   "outputs": [
    {
     "name": "stdout",
     "output_type": "stream",
     "text": [
      "XGBoost Accuracy: 0.788\n",
      "Random Forest Accuracy: 0.799\n"
     ]
    }
   ],
   "source": [
    "import pandas as pd\n",
    "from sklearn.model_selection import train_test_split\n",
    "from sklearn.ensemble import RandomForestClassifier, AdaBoostClassifier\n",
    "from xgboost import XGBClassifier\n",
    "\n",
    "\n",
    "def load_df():\n",
    "    df = pd.read_csv('../data/titanic_dataset.csv')\n",
    "    df[\"is_male\"] = df[\"Sex\"] == \"male\"\n",
    "    return df\n",
    "\n",
    "\n",
    "def evaluate_adaboost_model(data):\n",
    "    X = data[[\"is_male\", \"SibSp\", \"Pclass\", \"Fare\"]]\n",
    "    y = data['Survived']\n",
    "    X_train, X_test, y_train, y_test = train_test_split(X, y, test_size=0.2)\n",
    "    \n",
    "    model = AdaBoostClassifier()\n",
    "    model.fit(X_train, y_train)\n",
    "    \n",
    "    accuracy = model.score(X_test, y_test)\n",
    "    return accuracy\n",
    "\n",
    "\n",
    "def evaluate_random_forest_model(data):\n",
    "    X = data[[\"is_male\", \"SibSp\", \"Pclass\", \"Fare\"]]\n",
    "    y = data['Survived']\n",
    "    X_train, X_test, y_train, y_test = train_test_split(X, y, test_size=0.2)\n",
    "    \n",
    "    model = RandomForestClassifier()\n",
    "    model.fit(X_train, y_train)\n",
    "    \n",
    "    accuracy = model.score(X_test, y_test)\n",
    "    return accuracy\n",
    "\n",
    "df = load_df()\n",
    "\n",
    "accuracy_xgboost = evaluate_xgboost_model(df)\n",
    "print(f\"XGBoost Accuracy: {accuracy_xgboost:.3f}\")\n",
    "\n",
    "accuracy_random_forest = evaluate_random_forest_model(df)\n",
    "print(f\"Random Forest Accuracy: {accuracy_random_forest:.3f}\")"
   ]
  },
  {
   "cell_type": "markdown",
   "id": "1a2fe693",
   "metadata": {},
   "source": [
    "### First Refactor: Fixing Duplicated Code by Pulling Up a Method"
   ]
  },
  {
   "cell_type": "code",
   "execution_count": 20,
   "id": "27dd4a8f",
   "metadata": {},
   "outputs": [
    {
     "name": "stdout",
     "output_type": "stream",
     "text": [
      "XGBoost Accuracy: 0.788\n",
      "Random Forest Accuracy: 0.799\n"
     ]
    }
   ],
   "source": [
    "import pandas as pd\n",
    "from sklearn.model_selection import train_test_split\n",
    "from sklearn.ensemble import RandomForestClassifier, AdaBoostClassifier\n",
    "from xgboost import XGBClassifier\n",
    "\n",
    "\n",
    "def load_df():\n",
    "    df = pd.read_csv('../data/titanic_dataset.csv')\n",
    "    df[\"is_male\"] = df[\"Sex\"] == \"male\"\n",
    "    return df\n",
    "\n",
    "\n",
    "def evaluate_model(data, model_constructor):\n",
    "    X = data[[\"is_male\", \"SibSp\", \"Pclass\", \"Fare\"]]\n",
    "    y = data['Survived']\n",
    "    X_train, X_test, y_train, y_test = train_test_split(X, y, test_size=0.2)\n",
    "    \n",
    "    model = model_constructor()\n",
    "    model.fit(X_train, y_train)\n",
    "    \n",
    "    accuracy = model.score(X_test, y_test)\n",
    "    return accuracy\n",
    "\n",
    "\n",
    "df = load_df()\n",
    "\n",
    "accuracy_xgboost = evaluate_model(df, AdaBoostClassifier)\n",
    "print(f\"XGBoost Accuracy: {accuracy_xgboost:.3f}\")\n",
    "\n",
    "accuracy_random_forest = evaluate_model(df, RandomForestClassifier)\n",
    "print(f\"Random Forest Accuracy: {accuracy_random_forest:.3f}\")"
   ]
  },
  {
   "cell_type": "markdown",
   "id": "7059d607",
   "metadata": {},
   "source": [
    "### Second Refactor: Fixing a Mysterious Name by Renaming the Variable"
   ]
  },
  {
   "cell_type": "code",
   "execution_count": 22,
   "id": "8765cb7a",
   "metadata": {},
   "outputs": [
    {
     "name": "stdout",
     "output_type": "stream",
     "text": [
      "XGBoost Accuracy: 0.788\n",
      "Random Forest Accuracy: 0.804\n"
     ]
    }
   ],
   "source": [
    "import pandas as pd\n",
    "from sklearn.model_selection import train_test_split\n",
    "from sklearn.ensemble import RandomForestClassifier, AdaBoostClassifier\n",
    "from xgboost import XGBClassifier\n",
    "\n",
    "\n",
    "def load_titanic_passengers_df():\n",
    "    titanic_passengers_df = pd.read_csv('../data/titanic_dataset.csv')\n",
    "    titanic_passengers_df[\"is_male\"] = titanic_passengers_df[\"Sex\"] == \"male\"\n",
    "    return titanic_passengers_df\n",
    "\n",
    "\n",
    "def evaluate_model(data, model_constructor):\n",
    "    X = data[[\"is_male\", \"SibSp\", \"Pclass\", \"Fare\"]]\n",
    "    y = data['Survived']\n",
    "    X_train, X_test, y_train, y_test = train_test_split(X, y, test_size=0.2)\n",
    "    \n",
    "    model = model_constructor()\n",
    "    model.fit(X_train, y_train)\n",
    "    \n",
    "    accuracy = model.score(X_test, y_test)\n",
    "    return accuracy\n",
    "\n",
    "\n",
    "titanic_passengers_df = load_df()\n",
    "\n",
    "accuracy_xgboost = evaluate_model(titanic_passengers_df, AdaBoostClassifier)\n",
    "print(f\"XGBoost Accuracy: {accuracy_xgboost:.3f}\")\n",
    "\n",
    "accuracy_random_forest = evaluate_model(titanic_passengers_df, RandomForestClassifier)\n",
    "print(f\"Random Forest Accuracy: {accuracy_random_forest:.3f}\")"
   ]
  },
  {
   "cell_type": "markdown",
   "id": "8cac8676",
   "metadata": {},
   "source": [
    "### Third Refactor: Fix Magic Values by Extracting Variables"
   ]
  },
  {
   "cell_type": "code",
   "execution_count": 23,
   "id": "f0314b06",
   "metadata": {},
   "outputs": [
    {
     "name": "stdout",
     "output_type": "stream",
     "text": [
      "XGBoost Accuracy: 0.788\n",
      "Random Forest Accuracy: 0.799\n"
     ]
    }
   ],
   "source": [
    "import pandas as pd\n",
    "from sklearn.model_selection import train_test_split\n",
    "from sklearn.ensemble import RandomForestClassifier, AdaBoostClassifier\n",
    "from xgboost import XGBClassifier\n",
    "\n",
    "\n",
    "MODEL_FEATURES = [\"is_male\", \"SibSp\", \"Pclass\", \"Fare\"]\n",
    "MODEL_TARGET = \"Survived\"\n",
    "TRAIN_TEST_SPLIT_FRACTION = 0.2\n",
    "\n",
    "\n",
    "def load_titanic_passengers_df():\n",
    "    titanic_passengers_df = pd.read_csv('../data/titanic_dataset.csv')\n",
    "    titanic_passengers_df[\"is_male\"] = titanic_passengers_df[\"Sex\"] == \"male\"\n",
    "    return titanic_passengers_df\n",
    "\n",
    "\n",
    "def evaluate_model(data, model_constructor):\n",
    "    X = data[MODEL_FEATURES]\n",
    "    y = data[MODEL_TARGET]\n",
    "    X_train, X_test, y_train, y_test = train_test_split(X, y, test_size=TRAIN_TEST_SPLIT_FRACTION)\n",
    "    \n",
    "    model = model_constructor()\n",
    "    model.fit(X_train, y_train)\n",
    "    \n",
    "    accuracy = model.score(X_test, y_test)\n",
    "    return accuracy\n",
    "\n",
    "\n",
    "titanic_passengers_df = load_df()\n",
    "\n",
    "accuracy_xgboost = evaluate_model(titanic_passengers_df, AdaBoostClassifier)\n",
    "print(f\"XGBoost Accuracy: {accuracy_xgboost:.3f}\")\n",
    "\n",
    "accuracy_random_forest = evaluate_model(titanic_passengers_df, RandomForestClassifier)\n",
    "print(f\"Random Forest Accuracy: {accuracy_random_forest:.3f}\")"
   ]
  },
  {
   "cell_type": "code",
   "execution_count": null,
   "id": "444f1a82",
   "metadata": {},
   "outputs": [],
   "source": []
  }
 ],
 "metadata": {
  "kernelspec": {
   "display_name": "Python 3 (ipykernel)",
   "language": "python",
   "name": "python3"
  },
  "language_info": {
   "codemirror_mode": {
    "name": "ipython",
    "version": 3
   },
   "file_extension": ".py",
   "mimetype": "text/x-python",
   "name": "python",
   "nbconvert_exporter": "python",
   "pygments_lexer": "ipython3",
   "version": "3.10.0"
  }
 },
 "nbformat": 4,
 "nbformat_minor": 5
}
