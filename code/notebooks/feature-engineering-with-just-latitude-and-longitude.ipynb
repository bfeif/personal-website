{
 "cells": [
  {
   "cell_type": "markdown",
   "id": "df358925",
   "metadata": {},
   "source": [
    "# Feature Engineering from Just Latitude and Longitude"
   ]
  },
  {
   "cell_type": "markdown",
   "id": "dd6ab9c9",
   "metadata": {},
   "source": [
    "The purpose of this notebook is to demonstrate a few feature engineering techniques that use only latitude and longitude.\n",
    "\n",
    "It compares these feature engineering techniques by using them on a prediction problem from Kaggle, \"Predicting Airbnb Prices\" ([dataset](https://www.kaggle.com/datasets/kritikseth/us-airbnb-open-data)).\n",
    "\n",
    "Tools used include `polars`, `numpy`, `matplotlib`, `xgboost`, `scikit-learn`, and `scipy`."
   ]
  },
  {
   "cell_type": "markdown",
   "id": "103eb7b9",
   "metadata": {},
   "source": [
    "## 0. Env"
   ]
  },
  {
   "cell_type": "code",
   "execution_count": 14,
   "id": "e9321718",
   "metadata": {},
   "outputs": [
    {
     "ename": "ImportError",
     "evalue": "cannot import name 'rmse' from 'sklearn.metrics' (/Users/ben/code/personal-website/code/.venv/lib/python3.10/site-packages/sklearn/metrics/__init__.py)",
     "output_type": "error",
     "traceback": [
      "\u001b[0;31m---------------------------------------------------------------------------\u001b[0m",
      "\u001b[0;31mImportError\u001b[0m                               Traceback (most recent call last)",
      "Cell \u001b[0;32mIn[14], line 10\u001b[0m\n\u001b[1;32m      8\u001b[0m \u001b[38;5;28;01mfrom\u001b[39;00m \u001b[38;5;21;01msklearn\u001b[39;00m\u001b[38;5;21;01m.\u001b[39;00m\u001b[38;5;21;01mneighbors\u001b[39;00m \u001b[38;5;28;01mimport\u001b[39;00m NearestNeighbors\n\u001b[1;32m      9\u001b[0m \u001b[38;5;28;01mfrom\u001b[39;00m \u001b[38;5;21;01msklearn\u001b[39;00m\u001b[38;5;21;01m.\u001b[39;00m\u001b[38;5;21;01mpreprocessing\u001b[39;00m \u001b[38;5;28;01mimport\u001b[39;00m OneHotEncoder\n\u001b[0;32m---> 10\u001b[0m \u001b[38;5;28;01mfrom\u001b[39;00m \u001b[38;5;21;01msklearn\u001b[39;00m\u001b[38;5;21;01m.\u001b[39;00m\u001b[38;5;21;01mmetrics\u001b[39;00m \u001b[38;5;28;01mimport\u001b[39;00m mean_squared_error, rmse\n\u001b[1;32m     11\u001b[0m \u001b[38;5;28;01mimport\u001b[39;00m \u001b[38;5;21;01mgeohash2\u001b[39;00m\n\u001b[1;32m     12\u001b[0m \u001b[38;5;28;01mfrom\u001b[39;00m \u001b[38;5;21;01mscipy\u001b[39;00m \u001b[38;5;28;01mimport\u001b[39;00m spatial\n",
      "\u001b[0;31mImportError\u001b[0m: cannot import name 'rmse' from 'sklearn.metrics' (/Users/ben/code/personal-website/code/.venv/lib/python3.10/site-packages/sklearn/metrics/__init__.py)"
     ]
    }
   ],
   "source": [
    "import os\n",
    "import numpy as np\n",
    "import polars as pl\n",
    "import pandas as pd\n",
    "import matplotlib.pyplot as plt\n",
    "from xgboost import XGBRegressor\n",
    "from sklearn.linear_model import LinearRegression, Ridge\n",
    "from sklearn.neighbors import NearestNeighbors\n",
    "from sklearn.preprocessing import OneHotEncoder\n",
    "from sklearn.metrics import mean_squared_error, rmse\n",
    "import geohash2\n",
    "from scipy import spatial\n",
    "import plotly.graph_objects as go\n",
    "import plotly.express as px"
   ]
  },
  {
   "cell_type": "code",
   "execution_count": 2,
   "id": "8209bf4b-f4f8-4e65-a427-8b13a40f6c4d",
   "metadata": {},
   "outputs": [],
   "source": [
    "home = \"../..\"\n",
    "images_dir = os.path.join(home, \"static/images/\")"
   ]
  },
  {
   "cell_type": "code",
   "execution_count": 3,
   "id": "c6f6728e",
   "metadata": {},
   "outputs": [],
   "source": [
    "TRAIN_TEST_SPLIT_FRACTION = 0.8\n",
    "MODEL_TARGET = \"price_log10\"\n",
    "GEOHASH_PRECISION = 6"
   ]
  },
  {
   "cell_type": "markdown",
   "id": "ec299960",
   "metadata": {},
   "source": [
    "## 1. Load Data"
   ]
  },
  {
   "cell_type": "markdown",
   "id": "1a436e28",
   "metadata": {},
   "source": [
    "#### Choosing a target city for the problem... which city has the most data?"
   ]
  },
  {
   "cell_type": "code",
   "execution_count": 4,
   "id": "2e7409e5",
   "metadata": {},
   "outputs": [
    {
     "data": {
      "text/html": [
       "<div><style>\n",
       ".dataframe > thead > tr > th,\n",
       ".dataframe > tbody > tr > td {\n",
       "  text-align: right;\n",
       "}\n",
       "</style>\n",
       "<small>shape: (5, 2)</small><table border=\"1\" class=\"dataframe\"><thead><tr><th>city</th><th>counts</th></tr><tr><td>str</td><td>u32</td></tr></thead><tbody><tr><td>&quot;New York City&quot;</td><td>42931</td></tr><tr><td>&quot;Los Angeles&quot;</td><td>42451</td></tr><tr><td>&quot;Broward County…</td><td>16899</td></tr><tr><td>&quot;Austin&quot;</td><td>14368</td></tr><tr><td>&quot;Clark County&quot;</td><td>13933</td></tr></tbody></table></div>"
      ],
      "text/plain": [
       "shape: (5, 2)\n",
       "┌────────────────┬────────┐\n",
       "│ city           ┆ counts │\n",
       "│ ---            ┆ ---    │\n",
       "│ str            ┆ u32    │\n",
       "╞════════════════╪════════╡\n",
       "│ New York City  ┆ 42931  │\n",
       "│ Los Angeles    ┆ 42451  │\n",
       "│ Broward County ┆ 16899  │\n",
       "│ Austin         ┆ 14368  │\n",
       "│ Clark County   ┆ 13933  │\n",
       "└────────────────┴────────┘"
      ]
     },
     "execution_count": 4,
     "metadata": {},
     "output_type": "execute_result"
    }
   ],
   "source": [
    "(\n",
    "    pl.read_csv(\"../data/AB_US_2023.csv\")\n",
    "    [\"city\"]\n",
    "    .value_counts()\n",
    "    .sort(by=\"counts\", descending=True)\n",
    "    .head(5)\n",
    ")"
   ]
  },
  {
   "cell_type": "markdown",
   "id": "253f8d2b",
   "metadata": {},
   "source": [
    "#### Load data for New York City"
   ]
  },
  {
   "cell_type": "code",
   "execution_count": 5,
   "id": "c0fb51b6",
   "metadata": {},
   "outputs": [],
   "source": [
    "df_query = (\n",
    "    pl.scan_csv(\"../data/AB_US_2023.csv\")\n",
    "    .filter(pl.col(\"city\") == \"New York City\")\n",
    "    .select(pl.col([\"latitude\", \"longitude\", \"price\"]))\n",
    "    .with_columns((pl.col(\"price\") + 1).log10().suffix(\"_log10\"))\n",
    ")"
   ]
  },
  {
   "cell_type": "code",
   "execution_count": 6,
   "id": "81a70175",
   "metadata": {},
   "outputs": [],
   "source": [
    "num_rows = df_query.collect().shape[0]\n",
    "df = (\n",
    "    df_query.collect()\n",
    "    .sample(fraction=1, shuffle=True)\n",
    "    .with_row_count(name=\"row_number\")\n",
    "    .with_columns([\n",
    "        (pl.col(\"row_number\") < TRAIN_TEST_SPLIT_FRACTION * num_rows).alias(\"is_train\")\n",
    "    ])\n",
    ")"
   ]
  },
  {
   "cell_type": "markdown",
   "id": "00d0ea58",
   "metadata": {},
   "source": [
    "#### Viewing the data"
   ]
  },
  {
   "cell_type": "code",
   "execution_count": 7,
   "id": "14a020f2",
   "metadata": {},
   "outputs": [
    {
     "data": {
      "text/html": [
       "<div><style>\n",
       ".dataframe > thead > tr > th,\n",
       ".dataframe > tbody > tr > td {\n",
       "  text-align: right;\n",
       "}\n",
       "</style>\n",
       "<small>shape: (5, 6)</small><table border=\"1\" class=\"dataframe\"><thead><tr><th>row_number</th><th>latitude</th><th>longitude</th><th>price</th><th>price_log10</th><th>is_train</th></tr><tr><td>u32</td><td>f64</td><td>f64</td><td>i64</td><td>f64</td><td>bool</td></tr></thead><tbody><tr><td>0</td><td>40.71813</td><td>-73.95826</td><td>400</td><td>2.603144</td><td>true</td></tr><tr><td>1</td><td>40.65233</td><td>-73.91676</td><td>130</td><td>2.117271</td><td>true</td></tr><tr><td>2</td><td>40.77348</td><td>-73.95482</td><td>247</td><td>2.394452</td><td>true</td></tr><tr><td>3</td><td>40.66179</td><td>-73.8671</td><td>125</td><td>2.100371</td><td>true</td></tr><tr><td>4</td><td>40.71652</td><td>-73.94204</td><td>800</td><td>2.903633</td><td>true</td></tr></tbody></table></div>"
      ],
      "text/plain": [
       "shape: (5, 6)\n",
       "┌────────────┬──────────┬───────────┬───────┬─────────────┬──────────┐\n",
       "│ row_number ┆ latitude ┆ longitude ┆ price ┆ price_log10 ┆ is_train │\n",
       "│ ---        ┆ ---      ┆ ---       ┆ ---   ┆ ---         ┆ ---      │\n",
       "│ u32        ┆ f64      ┆ f64       ┆ i64   ┆ f64         ┆ bool     │\n",
       "╞════════════╪══════════╪═══════════╪═══════╪═════════════╪══════════╡\n",
       "│ 0          ┆ 40.71813 ┆ -73.95826 ┆ 400   ┆ 2.603144    ┆ true     │\n",
       "│ 1          ┆ 40.65233 ┆ -73.91676 ┆ 130   ┆ 2.117271    ┆ true     │\n",
       "│ 2          ┆ 40.77348 ┆ -73.95482 ┆ 247   ┆ 2.394452    ┆ true     │\n",
       "│ 3          ┆ 40.66179 ┆ -73.8671  ┆ 125   ┆ 2.100371    ┆ true     │\n",
       "│ 4          ┆ 40.71652 ┆ -73.94204 ┆ 800   ┆ 2.903633    ┆ true     │\n",
       "└────────────┴──────────┴───────────┴───────┴─────────────┴──────────┘"
      ]
     },
     "metadata": {},
     "output_type": "display_data"
    }
   ],
   "source": [
    "display(\n",
    "    df\n",
    "    .head()\n",
    ")"
   ]
  },
  {
   "cell_type": "markdown",
   "id": "d4f30e59",
   "metadata": {},
   "source": [
    "## 2. Brief EDA"
   ]
  },
  {
   "cell_type": "markdown",
   "id": "a1b3a111",
   "metadata": {},
   "source": [
    "#### Distribution of Prices"
   ]
  },
  {
   "cell_type": "code",
   "execution_count": 8,
   "id": "01b5f219",
   "metadata": {},
   "outputs": [
    {
     "data": {
      "image/png": "[encoded data removed]",
      "text/plain": [
       "<Figure size 1700x500 with 3 Axes>"
      ]
     },
     "metadata": {},
     "output_type": "display_data"
    }
   ],
   "source": [
    "fig, (ax1, ax2, ax3) = plt.subplots(1, 3, figsize=(17, 5))\n",
    "\n",
    "ax1.plot(df[\"price\"].sort(), np.linspace(0, 1, len(df)))\n",
    "ax1.set_xlabel(\"Price\")\n",
    "ax1.set_ylabel(\"ECDF\")\n",
    "ax1.set_title(\"ECDF of Airbnb Prices\")\n",
    "\n",
    "ax2.plot(df[\"price\"].sort(), np.linspace(0, 1, len(df)))\n",
    "ax2.set_xscale(\"log\")\n",
    "ax2.set_xlabel(\"Price\")\n",
    "ax2.set_ylabel(\"ECDF\")\n",
    "ax2.set_title(\"ECDF of Airbnb Prices (log x-axis)\")\n",
    "\n",
    "ax3.hist(df[\"price_log10\"], bins=40, density=True)\n",
    "ax3.set_xlabel(\"Log10(Price)\")\n",
    "ax3.set_ylabel(\"Fraction of All Airbnbs\")\n",
    "ax3.set_title(\"Histogram of Log10(Airbnb Price), Normalized\")\n",
    "\n",
    "plt.savefig(\"../../static/images/distribution-of-airbnb-price.png\")"
   ]
  },
  {
   "cell_type": "markdown",
   "id": "606c66ad",
   "metadata": {},
   "source": [
    "#### Distribution over Space"
   ]
  },
  {
   "cell_type": "code",
   "execution_count": 9,
   "id": "9d0abd6c-2b05-4540-90c7-b3425ea81cd5",
   "metadata": {},
   "outputs": [],
   "source": [
    "df_sample = df.sample(fraction=.2, shuffle=True)\n",
    "fig = px.scatter_mapbox(\n",
    "    data_frame=df_sample,\n",
    "    lat=\"latitude\",\n",
    "    lon=\"longitude\",\n",
    "    color=\"price_log10\",\n",
    "    range_color=[1, 5]\n",
    ")\n",
    "fig.update_layout(\n",
    "    mapbox_style=\"carto-positron\",\n",
    "    margin={\"r\":0, \"t\":0, \"l\":0, \"b\":0},\n",
    "    mapbox_bounds={\n",
    "        \"west\": -74.108,\n",
    "        \"east\": -73.763,\n",
    "        \"south\": 40.565,\n",
    "        \"north\": 40.886,\n",
    "    },\n",
    "    coloraxis_colorbar={\n",
    "        \"title\": \"Airbnb Price\",\n",
    "        \"tickvals\": [0, 1, 2, 3, 4, 5, 6],\n",
    "        \"ticktext\": [\"$1\", \"$10\", \"$100\", \"$1K\", \"$10K\", \"$100K\"]\n",
    "    },\n",
    ")\n",
    "fig.write_image(os.path.join(images_dir, \"nyc-airbnb-prices.png\"))"
   ]
  },
  {
   "cell_type": "code",
   "execution_count": 10,
   "id": "15dcf853",
   "metadata": {},
   "outputs": [
    {
     "data": {
      "text/html": [
       "<div><style>\n",
       ".dataframe > thead > tr > th,\n",
       ".dataframe > tbody > tr > td {\n",
       "  text-align: right;\n",
       "}\n",
       "</style>\n",
       "<small>shape: (3, 3)</small><table border=\"1\" class=\"dataframe\"><thead><tr><th>latitude</th><th>longitude</th><th>price</th></tr><tr><td>f64</td><td>f64</td><td>f64</td></tr></thead><tbody><tr><td>1.0</td><td>0.046993</td><td>0.008133</td></tr><tr><td>0.046993</td><td>1.0</td><td>-0.058381</td></tr><tr><td>0.008133</td><td>-0.058381</td><td>1.0</td></tr></tbody></table></div>"
      ],
      "text/plain": [
       "shape: (3, 3)\n",
       "┌──────────┬───────────┬───────────┐\n",
       "│ latitude ┆ longitude ┆ price     │\n",
       "│ ---      ┆ ---       ┆ ---       │\n",
       "│ f64      ┆ f64       ┆ f64       │\n",
       "╞══════════╪═══════════╪═══════════╡\n",
       "│ 1.0      ┆ 0.046993  ┆ 0.008133  │\n",
       "│ 0.046993 ┆ 1.0       ┆ -0.058381 │\n",
       "│ 0.008133 ┆ -0.058381 ┆ 1.0       │\n",
       "└──────────┴───────────┴───────────┘"
      ]
     },
     "execution_count": 10,
     "metadata": {},
     "output_type": "execute_result"
    }
   ],
   "source": [
    "df.select([\"latitude\", \"longitude\", \"price\"]).corr()"
   ]
  },
  {
   "cell_type": "markdown",
   "id": "8326a4f0",
   "metadata": {},
   "source": [
    "### 1.1 Raw Latitude and Longitude"
   ]
  },
  {
   "cell_type": "code",
   "execution_count": 17,
   "id": "0dcab314",
   "metadata": {},
   "outputs": [
    {
     "name": "stdout",
     "output_type": "stream",
     "text": [
      "<style type=\"text/css\">\n",
      "#T_09dff_row0_col0, #T_09dff_row0_col1 {\n",
      "  background-color: #023858;\n",
      "  color: #f1f1f1;\n",
      "}\n",
      "</style>\n",
      "<table id=\"T_09dff\">\n",
      "  <thead>\n",
      "    <tr>\n",
      "      <th class=\"blank level0\" >&nbsp;</th>\n",
      "      <th id=\"T_09dff_level0_col0\" class=\"col_heading level0 col0\" >ridge regression</th>\n",
      "      <th id=\"T_09dff_level0_col1\" class=\"col_heading level0 col1\" >xgboost</th>\n",
      "    </tr>\n",
      "  </thead>\n",
      "  <tbody>\n",
      "    <tr>\n",
      "      <th id=\"T_09dff_level0_row0\" class=\"row_heading level0 row0\" >raw_lat_lon</th>\n",
      "      <td id=\"T_09dff_row0_col0\" class=\"data row0 col0\" >$2.13</td>\n",
      "      <td id=\"T_09dff_row0_col1\" class=\"data row0 col1\" >$1.98</td>\n",
      "    </tr>\n",
      "  </tbody>\n",
      "</table>\n",
      "\n"
     ]
    }
   ],
   "source": [
    "MODEL_FEATURE_LIST_NAME = \"raw_lat_lon\"\n",
    "MODEL_FEATURE_LIST = [\"latitude\", \"longitude\"]\n",
    "\n",
    "X_train = df.filter(pl.col(\"is_train\")).select(MODEL_FEATURE_LIST)\n",
    "y_train = df.filter(pl.col(\"is_train\")).select(MODEL_TARGET)\n",
    "X_test = df.filter(~pl.col(\"is_train\")).select(MODEL_FEATURE_LIST)\n",
    "y_test = df.filter(~pl.col(\"is_train\")).select(MODEL_TARGET).to_numpy()\n",
    "\n",
    "model_performance_list = []\n",
    "for model_name, model_class in zip(\n",
    "    [\"xgboost\", \"ridge regression\"],\n",
    "    [XGBRegressor, Ridge]\n",
    "):\n",
    "    model = model_class().fit(X_train, y_train)\n",
    "    y_predicted = model.predict(X_test)\n",
    "    model_performance = mean_squared_error(y_test, y_predicted, squared=False)\n",
    "    model_performance_list.append({\n",
    "        \"feature_list_name\": MODEL_FEATURE_LIST_NAME,\n",
    "        \"model_name\": model_name,\n",
    "        \"model_performance\": model_performance\n",
    "    })\n",
    "    df.with_columns()\n",
    "\n",
    "raw_lat_lon_results_df = (\n",
    "    pd.DataFrame\n",
    "    .from_records(model_performance_list)\n",
    "    .pivot_table(\n",
    "        index=\"feature_list_name\",\n",
    "        columns=\"model_name\",\n",
    "        values=\"model_performance\",\n",
    "        aggfunc=\"first\"\n",
    "    )\n",
    ")\n",
    "raw_lat_lon_results_df.index.name = None\n",
    "raw_lat_lon_results_df.columns.name = None\n",
    "raw_lat_lon_results_df = 10 ** raw_lat_lon_results_df\n",
    "\n",
    "print(\n",
    "    raw_lat_lon_results_df\n",
    "    .style\n",
    "    .format(\"${:.2f}\")\n",
    "    .background_gradient(vmin=0, vmax=1)\n",
    "    .to_html()\n",
    ")"
   ]
  },
  {
   "cell_type": "markdown",
   "id": "63f8f7e0",
   "metadata": {},
   "source": [
    "### 1.2 Neighborhood Density"
   ]
  },
  {
   "cell_type": "code",
   "execution_count": 18,
   "id": "b0499f71",
   "metadata": {},
   "outputs": [],
   "source": [
    "def add_density_feature_columns_to_dataframe(geo_df: pl.DataFrame) -> pl.DataFrame:\n",
    "    tree = spatial.cKDTree(df.select([\"latitude\", \"longitude\"]))\n",
    "    result = geo_df.with_columns(\n",
    "        pl.Series(\n",
    "            \"spatial_density\",\n",
    "            tree.query_ball_point(geo_df.select([\"latitude\", \"longitude\"]), .02, return_length=True)\n",
    "        )\n",
    "    )\n",
    "    return result"
   ]
  },
  {
   "cell_type": "code",
   "execution_count": 20,
   "id": "4a51dc43",
   "metadata": {},
   "outputs": [
    {
     "name": "stdout",
     "output_type": "stream",
     "text": [
      "<style type=\"text/css\">\n",
      "#T_55b6c_row0_col0, #T_55b6c_row0_col1, #T_55b6c_row1_col0, #T_55b6c_row1_col1 {\n",
      "  background-color: #023858;\n",
      "  color: #f1f1f1;\n",
      "}\n",
      "</style>\n",
      "<table id=\"T_55b6c\">\n",
      "  <thead>\n",
      "    <tr>\n",
      "      <th class=\"blank level0\" >&nbsp;</th>\n",
      "      <th id=\"T_55b6c_level0_col0\" class=\"col_heading level0 col0\" >ridge regression</th>\n",
      "      <th id=\"T_55b6c_level0_col1\" class=\"col_heading level0 col1\" >xgboost</th>\n",
      "    </tr>\n",
      "  </thead>\n",
      "  <tbody>\n",
      "    <tr>\n",
      "      <th id=\"T_55b6c_level0_row0\" class=\"row_heading level0 row0\" >raw_lat_lon</th>\n",
      "      <td id=\"T_55b6c_row0_col0\" class=\"data row0 col0\" >2.130</td>\n",
      "      <td id=\"T_55b6c_row0_col1\" class=\"data row0 col1\" >1.977</td>\n",
      "    </tr>\n",
      "    <tr>\n",
      "      <th id=\"T_55b6c_level0_row1\" class=\"row_heading level0 row1\" >spatial_density</th>\n",
      "      <td id=\"T_55b6c_row1_col0\" class=\"data row1 col0\" >1.280</td>\n",
      "      <td id=\"T_55b6c_row1_col1\" class=\"data row1 col1\" >1.273</td>\n",
      "    </tr>\n",
      "  </tbody>\n",
      "</table>\n",
      "\n"
     ]
    }
   ],
   "source": [
    "df_w_density = add_density_feature_columns_to_dataframe(df)\n",
    "\n",
    "MODEL_FEATURE_LIST_NAME = \"spatial_density\"\n",
    "MODEL_FEATURE_LIST = [\"spatial_density\"]\n",
    "\n",
    "X_train = df_w_density.filter(pl.col(\"is_train\")).select(MODEL_FEATURE_LIST)\n",
    "y_train = df_w_density.filter(pl.col(\"is_train\")).select(MODEL_TARGET)\n",
    "X_test = df_w_density.filter(~pl.col(\"is_train\")).select(MODEL_FEATURE_LIST)\n",
    "y_test = df_w_density.filter(~pl.col(\"is_train\")).select(MODEL_TARGET).to_numpy()\n",
    "\n",
    "model_performance_list = []\n",
    "for model_name, model_class in zip(\n",
    "    [\"xgboost\", \"ridge regression\"],\n",
    "    [XGBRegressor, Ridge]\n",
    "):\n",
    "    model = model_class().fit(X_train, y_train)\n",
    "    y_predicted = model.predict(X_test)\n",
    "    model_performance = mean_squared_error(y_test, y_predicted)\n",
    "    model_performance_list.append({\n",
    "        \"feature_list_name\": MODEL_FEATURE_LIST_NAME,\n",
    "        \"model_name\": model_name,\n",
    "        \"model_performance\": model_performance\n",
    "    })\n",
    "\n",
    "spatial_density_results_df = (\n",
    "    pd.DataFrame\n",
    "    .from_records(model_performance_list)\n",
    "    .pivot_table(\n",
    "        index=\"feature_list_name\",\n",
    "        columns=\"model_name\",\n",
    "        values=\"model_performance\",\n",
    "        aggfunc=\"first\"\n",
    "    )\n",
    ")\n",
    "spatial_density_results_df.index.name = None\n",
    "spatial_density_results_df.columns.name = None\n",
    "spatial_density_results_df = 10 ** spatial_density_results_df\n",
    "\n",
    "print(\n",
    "    pd.concat([raw_lat_lon_results_df, spatial_density_results_df])\n",
    "    .style\n",
    "    .format(\"{:.3f}\")\n",
    "    .background_gradient(vmin=0, vmax=1)\n",
    "    .to_html()\n",
    ")"
   ]
  },
  {
   "cell_type": "markdown",
   "id": "4f185012",
   "metadata": {},
   "source": [
    "### 1.3 Geohash category"
   ]
  },
  {
   "cell_type": "code",
   "execution_count": 16,
   "id": "f9b7602b",
   "metadata": {},
   "outputs": [],
   "source": [
    "def add_geohash_category_column_to_dataframe(geo_df: pl.DataFrame, geohash_precision=6) -> pl.DataFrame:\n",
    "    geo_df = (\n",
    "        geo_df\n",
    "        .with_columns(\n",
    "            geo_df\n",
    "            .select([\"latitude\", \"longitude\"])\n",
    "            .apply(\n",
    "                lambda x: geohash2.encode(x[0], x[1], precision=geohash_precision)\n",
    "            )\n",
    "            .rename({\"apply\": \"geohash\"})\n",
    "        )\n",
    "    )\n",
    "    return geo_df"
   ]
  },
  {
   "cell_type": "code",
   "execution_count": 17,
   "id": "2dfe21a3",
   "metadata": {},
   "outputs": [],
   "source": [
    "def add_geohash_one_hot_encoded_category_columns_to_dataframe(\n",
    "    geo_df: pl.DataFrame,\n",
    "    geohash_precision=6\n",
    ") -> pl.DataFrame:\n",
    "    result = (\n",
    "        add_geohash_category_column_to_dataframe(\n",
    "            geo_df,\n",
    "            geohash_precision=geohash_precision\n",
    "        )\n",
    "        .to_dummies(columns=\"geohash\")\n",
    "    )\n",
    "    return result"
   ]
  },
  {
   "cell_type": "code",
   "execution_count": 25,
   "id": "16a1fec6",
   "metadata": {},
   "outputs": [
    {
     "data": {
      "text/html": [
       "<div><style>\n",
       ".dataframe > thead > tr > th,\n",
       ".dataframe > tbody > tr > td {\n",
       "  text-align: right;\n",
       "}\n",
       "</style>\n",
       "<small>shape: (5, 1_110)</small><table border=\"1\" class=\"dataframe\"><thead><tr><th>row_number</th><th>latitude</th><th>longitude</th><th>price</th><th>price_log1p</th><th>is_train</th><th>geohash_dr5nqm</th><th>geohash_dr5nqq</th><th>geohash_dr5nqs</th><th>geohash_dr5nqw</th><th>geohash_dr5nx1</th><th>geohash_dr5nx2</th><th>geohash_dr5nx3</th><th>geohash_dr5nx7</th><th>geohash_dr5nxd</th><th>geohash_dr5nxm</th><th>geohash_dr5nxq</th><th>geohash_dr5nxt</th><th>geohash_dr5nxv</th><th>geohash_dr5nxw</th><th>geohash_dr5nzb</th><th>geohash_dr5nzv</th><th>geohash_dr5nzy</th><th>geohash_dr5q85</th><th>geohash_dr5q8e</th><th>geohash_dr5q8g</th><th>geohash_dr5q8j</th><th>geohash_dr5q8k</th><th>geohash_dr5q8m</th><th>geohash_dr5q8r</th><th>geohash_dr5q8s</th><th>geohash_dr5q8t</th><th>geohash_dr5q8u</th><th>geohash_dr5q8v</th><th>geohash_dr5q8z</th><th>geohash_dr5q9p</th><th>geohash_dr5q9r</th><th>&hellip;</th><th>geohash_dr72xf</th><th>geohash_dr72xg</th><th>geohash_dr72xj</th><th>geohash_dr72xk</th><th>geohash_dr72xm</th><th>geohash_dr72xq</th><th>geohash_dr72xs</th><th>geohash_dr72xt</th><th>geohash_dr72xu</th><th>geohash_dr72xw</th><th>geohash_dr7800</th><th>geohash_dr7802</th><th>geohash_dr7805</th><th>geohash_dr7808</th><th>geohash_dr780j</th><th>geohash_dr780n</th><th>geohash_dr780p</th><th>geohash_dr780q</th><th>geohash_dr780r</th><th>geohash_dr780t</th><th>geohash_dr7810</th><th>geohash_dr7811</th><th>geohash_dr7820</th><th>geohash_dr7821</th><th>geohash_dr7822</th><th>geohash_dr7823</th><th>geohash_dr7824</th><th>geohash_dr7825</th><th>geohash_dr7827</th><th>geohash_dr782g</th><th>geohash_dr782p</th><th>geohash_dr782u</th><th>geohash_dr782v</th><th>geohash_dr7834</th><th>geohash_dr7880</th><th>geohash_dr7885</th><th>geohash_dr7887</th></tr><tr><td>u32</td><td>f64</td><td>f64</td><td>i64</td><td>f64</td><td>bool</td><td>u8</td><td>u8</td><td>u8</td><td>u8</td><td>u8</td><td>u8</td><td>u8</td><td>u8</td><td>u8</td><td>u8</td><td>u8</td><td>u8</td><td>u8</td><td>u8</td><td>u8</td><td>u8</td><td>u8</td><td>u8</td><td>u8</td><td>u8</td><td>u8</td><td>u8</td><td>u8</td><td>u8</td><td>u8</td><td>u8</td><td>u8</td><td>u8</td><td>u8</td><td>u8</td><td>u8</td><td>&hellip;</td><td>u8</td><td>u8</td><td>u8</td><td>u8</td><td>u8</td><td>u8</td><td>u8</td><td>u8</td><td>u8</td><td>u8</td><td>u8</td><td>u8</td><td>u8</td><td>u8</td><td>u8</td><td>u8</td><td>u8</td><td>u8</td><td>u8</td><td>u8</td><td>u8</td><td>u8</td><td>u8</td><td>u8</td><td>u8</td><td>u8</td><td>u8</td><td>u8</td><td>u8</td><td>u8</td><td>u8</td><td>u8</td><td>u8</td><td>u8</td><td>u8</td><td>u8</td><td>u8</td></tr></thead><tbody><tr><td>0</td><td>40.75356</td><td>-73.98559</td><td>150</td><td>5.01728</td><td>true</td><td>0</td><td>0</td><td>0</td><td>0</td><td>0</td><td>0</td><td>0</td><td>0</td><td>0</td><td>0</td><td>0</td><td>0</td><td>0</td><td>0</td><td>0</td><td>0</td><td>0</td><td>0</td><td>0</td><td>0</td><td>0</td><td>0</td><td>0</td><td>0</td><td>0</td><td>0</td><td>0</td><td>0</td><td>0</td><td>0</td><td>0</td><td>&hellip;</td><td>0</td><td>0</td><td>0</td><td>0</td><td>0</td><td>0</td><td>0</td><td>0</td><td>0</td><td>0</td><td>0</td><td>0</td><td>0</td><td>0</td><td>0</td><td>0</td><td>0</td><td>0</td><td>0</td><td>0</td><td>0</td><td>0</td><td>0</td><td>0</td><td>0</td><td>0</td><td>0</td><td>0</td><td>0</td><td>0</td><td>0</td><td>0</td><td>0</td><td>0</td><td>0</td><td>0</td><td>0</td></tr><tr><td>1</td><td>40.68535</td><td>-73.95512</td><td>60</td><td>4.110874</td><td>true</td><td>0</td><td>0</td><td>0</td><td>0</td><td>0</td><td>0</td><td>0</td><td>0</td><td>0</td><td>0</td><td>0</td><td>0</td><td>0</td><td>0</td><td>0</td><td>0</td><td>0</td><td>0</td><td>0</td><td>0</td><td>0</td><td>0</td><td>0</td><td>0</td><td>0</td><td>0</td><td>0</td><td>0</td><td>0</td><td>0</td><td>0</td><td>&hellip;</td><td>0</td><td>0</td><td>0</td><td>0</td><td>0</td><td>0</td><td>0</td><td>0</td><td>0</td><td>0</td><td>0</td><td>0</td><td>0</td><td>0</td><td>0</td><td>0</td><td>0</td><td>0</td><td>0</td><td>0</td><td>0</td><td>0</td><td>0</td><td>0</td><td>0</td><td>0</td><td>0</td><td>0</td><td>0</td><td>0</td><td>0</td><td>0</td><td>0</td><td>0</td><td>0</td><td>0</td><td>0</td></tr><tr><td>2</td><td>40.8038</td><td>-73.96751</td><td>75</td><td>4.330733</td><td>true</td><td>0</td><td>0</td><td>0</td><td>0</td><td>0</td><td>0</td><td>0</td><td>0</td><td>0</td><td>0</td><td>0</td><td>0</td><td>0</td><td>0</td><td>0</td><td>0</td><td>0</td><td>0</td><td>0</td><td>0</td><td>0</td><td>0</td><td>0</td><td>0</td><td>0</td><td>0</td><td>0</td><td>0</td><td>0</td><td>0</td><td>0</td><td>&hellip;</td><td>0</td><td>0</td><td>0</td><td>0</td><td>0</td><td>0</td><td>0</td><td>0</td><td>0</td><td>0</td><td>0</td><td>0</td><td>0</td><td>0</td><td>0</td><td>0</td><td>0</td><td>0</td><td>0</td><td>0</td><td>0</td><td>0</td><td>0</td><td>0</td><td>0</td><td>0</td><td>0</td><td>0</td><td>0</td><td>0</td><td>0</td><td>0</td><td>0</td><td>0</td><td>0</td><td>0</td><td>0</td></tr><tr><td>3</td><td>40.76457</td><td>-73.98317</td><td>68</td><td>4.234107</td><td>true</td><td>0</td><td>0</td><td>0</td><td>0</td><td>0</td><td>0</td><td>0</td><td>0</td><td>0</td><td>0</td><td>0</td><td>0</td><td>0</td><td>0</td><td>0</td><td>0</td><td>0</td><td>0</td><td>0</td><td>0</td><td>0</td><td>0</td><td>0</td><td>0</td><td>0</td><td>0</td><td>0</td><td>0</td><td>0</td><td>0</td><td>0</td><td>&hellip;</td><td>0</td><td>0</td><td>0</td><td>0</td><td>0</td><td>0</td><td>0</td><td>0</td><td>0</td><td>0</td><td>0</td><td>0</td><td>0</td><td>0</td><td>0</td><td>0</td><td>0</td><td>0</td><td>0</td><td>0</td><td>0</td><td>0</td><td>0</td><td>0</td><td>0</td><td>0</td><td>0</td><td>0</td><td>0</td><td>0</td><td>0</td><td>0</td><td>0</td><td>0</td><td>0</td><td>0</td><td>0</td></tr><tr><td>4</td><td>40.66265</td><td>-73.99454</td><td>275</td><td>5.620401</td><td>true</td><td>0</td><td>0</td><td>0</td><td>0</td><td>0</td><td>0</td><td>0</td><td>0</td><td>0</td><td>0</td><td>0</td><td>0</td><td>0</td><td>0</td><td>0</td><td>0</td><td>0</td><td>0</td><td>0</td><td>0</td><td>0</td><td>0</td><td>0</td><td>0</td><td>0</td><td>0</td><td>0</td><td>0</td><td>0</td><td>0</td><td>0</td><td>&hellip;</td><td>0</td><td>0</td><td>0</td><td>0</td><td>0</td><td>0</td><td>0</td><td>0</td><td>0</td><td>0</td><td>0</td><td>0</td><td>0</td><td>0</td><td>0</td><td>0</td><td>0</td><td>0</td><td>0</td><td>0</td><td>0</td><td>0</td><td>0</td><td>0</td><td>0</td><td>0</td><td>0</td><td>0</td><td>0</td><td>0</td><td>0</td><td>0</td><td>0</td><td>0</td><td>0</td><td>0</td><td>0</td></tr></tbody></table></div>"
      ],
      "text/plain": [
       "shape: (5, 1_110)\n",
       "┌────────────┬──────────┬───────────┬───────┬───┬────────────┬────────────┬────────────┬───────────┐\n",
       "│ row_number ┆ latitude ┆ longitude ┆ price ┆ … ┆ geohash_dr ┆ geohash_dr ┆ geohash_dr ┆ geohash_d │\n",
       "│ ---        ┆ ---      ┆ ---       ┆ ---   ┆   ┆ 7834       ┆ 7880       ┆ 7885       ┆ r7887     │\n",
       "│ u32        ┆ f64      ┆ f64       ┆ i64   ┆   ┆ ---        ┆ ---        ┆ ---        ┆ ---       │\n",
       "│            ┆          ┆           ┆       ┆   ┆ u8         ┆ u8         ┆ u8         ┆ u8        │\n",
       "╞════════════╪══════════╪═══════════╪═══════╪═══╪════════════╪════════════╪════════════╪═══════════╡\n",
       "│ 0          ┆ 40.75356 ┆ -73.98559 ┆ 150   ┆ … ┆ 0          ┆ 0          ┆ 0          ┆ 0         │\n",
       "│ 1          ┆ 40.68535 ┆ -73.95512 ┆ 60    ┆ … ┆ 0          ┆ 0          ┆ 0          ┆ 0         │\n",
       "│ 2          ┆ 40.8038  ┆ -73.96751 ┆ 75    ┆ … ┆ 0          ┆ 0          ┆ 0          ┆ 0         │\n",
       "│ 3          ┆ 40.76457 ┆ -73.98317 ┆ 68    ┆ … ┆ 0          ┆ 0          ┆ 0          ┆ 0         │\n",
       "│ 4          ┆ 40.66265 ┆ -73.99454 ┆ 275   ┆ … ┆ 0          ┆ 0          ┆ 0          ┆ 0         │\n",
       "└────────────┴──────────┴───────────┴───────┴───┴────────────┴────────────┴────────────┴───────────┘"
      ]
     },
     "metadata": {},
     "output_type": "display_data"
    },
    {
     "data": {
      "text/html": [
       "<div><style>\n",
       ".dataframe > thead > tr > th,\n",
       ".dataframe > tbody > tr > td {\n",
       "  text-align: right;\n",
       "}\n",
       "</style>\n",
       "<small>shape: (5, 1_110)</small><table border=\"1\" class=\"dataframe\"><thead><tr><th>row_number</th><th>latitude</th><th>longitude</th><th>price</th><th>price_log1p</th><th>is_train</th><th>geohash_dr5nqm</th><th>geohash_dr5nqq</th><th>geohash_dr5nqs</th><th>geohash_dr5nqw</th><th>geohash_dr5nx1</th><th>geohash_dr5nx2</th><th>geohash_dr5nx3</th><th>geohash_dr5nx7</th><th>geohash_dr5nxd</th><th>geohash_dr5nxm</th><th>geohash_dr5nxq</th><th>geohash_dr5nxt</th><th>geohash_dr5nxv</th><th>geohash_dr5nxw</th><th>geohash_dr5nzb</th><th>geohash_dr5nzv</th><th>geohash_dr5nzy</th><th>geohash_dr5q85</th><th>geohash_dr5q8e</th><th>geohash_dr5q8g</th><th>geohash_dr5q8j</th><th>geohash_dr5q8k</th><th>geohash_dr5q8m</th><th>geohash_dr5q8r</th><th>geohash_dr5q8s</th><th>geohash_dr5q8t</th><th>geohash_dr5q8u</th><th>geohash_dr5q8v</th><th>geohash_dr5q8z</th><th>geohash_dr5q9p</th><th>geohash_dr5q9r</th><th>&hellip;</th><th>geohash_dr72xf</th><th>geohash_dr72xg</th><th>geohash_dr72xj</th><th>geohash_dr72xk</th><th>geohash_dr72xm</th><th>geohash_dr72xq</th><th>geohash_dr72xs</th><th>geohash_dr72xt</th><th>geohash_dr72xu</th><th>geohash_dr72xw</th><th>geohash_dr7800</th><th>geohash_dr7802</th><th>geohash_dr7805</th><th>geohash_dr7808</th><th>geohash_dr780j</th><th>geohash_dr780n</th><th>geohash_dr780p</th><th>geohash_dr780q</th><th>geohash_dr780r</th><th>geohash_dr780t</th><th>geohash_dr7810</th><th>geohash_dr7811</th><th>geohash_dr7820</th><th>geohash_dr7821</th><th>geohash_dr7822</th><th>geohash_dr7823</th><th>geohash_dr7824</th><th>geohash_dr7825</th><th>geohash_dr7827</th><th>geohash_dr782g</th><th>geohash_dr782p</th><th>geohash_dr782u</th><th>geohash_dr782v</th><th>geohash_dr7834</th><th>geohash_dr7880</th><th>geohash_dr7885</th><th>geohash_dr7887</th></tr><tr><td>u32</td><td>f64</td><td>f64</td><td>i64</td><td>f64</td><td>bool</td><td>u8</td><td>u8</td><td>u8</td><td>u8</td><td>u8</td><td>u8</td><td>u8</td><td>u8</td><td>u8</td><td>u8</td><td>u8</td><td>u8</td><td>u8</td><td>u8</td><td>u8</td><td>u8</td><td>u8</td><td>u8</td><td>u8</td><td>u8</td><td>u8</td><td>u8</td><td>u8</td><td>u8</td><td>u8</td><td>u8</td><td>u8</td><td>u8</td><td>u8</td><td>u8</td><td>u8</td><td>&hellip;</td><td>u8</td><td>u8</td><td>u8</td><td>u8</td><td>u8</td><td>u8</td><td>u8</td><td>u8</td><td>u8</td><td>u8</td><td>u8</td><td>u8</td><td>u8</td><td>u8</td><td>u8</td><td>u8</td><td>u8</td><td>u8</td><td>u8</td><td>u8</td><td>u8</td><td>u8</td><td>u8</td><td>u8</td><td>u8</td><td>u8</td><td>u8</td><td>u8</td><td>u8</td><td>u8</td><td>u8</td><td>u8</td><td>u8</td><td>u8</td><td>u8</td><td>u8</td><td>u8</td></tr></thead><tbody><tr><td>0</td><td>40.75356</td><td>-73.98559</td><td>150</td><td>5.01728</td><td>true</td><td>0</td><td>0</td><td>0</td><td>0</td><td>0</td><td>0</td><td>0</td><td>0</td><td>0</td><td>0</td><td>0</td><td>0</td><td>0</td><td>0</td><td>0</td><td>0</td><td>0</td><td>0</td><td>0</td><td>0</td><td>0</td><td>0</td><td>0</td><td>0</td><td>0</td><td>0</td><td>0</td><td>0</td><td>0</td><td>0</td><td>0</td><td>&hellip;</td><td>0</td><td>0</td><td>0</td><td>0</td><td>0</td><td>0</td><td>0</td><td>0</td><td>0</td><td>0</td><td>0</td><td>0</td><td>0</td><td>0</td><td>0</td><td>0</td><td>0</td><td>0</td><td>0</td><td>0</td><td>0</td><td>0</td><td>0</td><td>0</td><td>0</td><td>0</td><td>0</td><td>0</td><td>0</td><td>0</td><td>0</td><td>0</td><td>0</td><td>0</td><td>0</td><td>0</td><td>0</td></tr><tr><td>1</td><td>40.68535</td><td>-73.95512</td><td>60</td><td>4.110874</td><td>true</td><td>0</td><td>0</td><td>0</td><td>0</td><td>0</td><td>0</td><td>0</td><td>0</td><td>0</td><td>0</td><td>0</td><td>0</td><td>0</td><td>0</td><td>0</td><td>0</td><td>0</td><td>0</td><td>0</td><td>0</td><td>0</td><td>0</td><td>0</td><td>0</td><td>0</td><td>0</td><td>0</td><td>0</td><td>0</td><td>0</td><td>0</td><td>&hellip;</td><td>0</td><td>0</td><td>0</td><td>0</td><td>0</td><td>0</td><td>0</td><td>0</td><td>0</td><td>0</td><td>0</td><td>0</td><td>0</td><td>0</td><td>0</td><td>0</td><td>0</td><td>0</td><td>0</td><td>0</td><td>0</td><td>0</td><td>0</td><td>0</td><td>0</td><td>0</td><td>0</td><td>0</td><td>0</td><td>0</td><td>0</td><td>0</td><td>0</td><td>0</td><td>0</td><td>0</td><td>0</td></tr><tr><td>2</td><td>40.8038</td><td>-73.96751</td><td>75</td><td>4.330733</td><td>true</td><td>0</td><td>0</td><td>0</td><td>0</td><td>0</td><td>0</td><td>0</td><td>0</td><td>0</td><td>0</td><td>0</td><td>0</td><td>0</td><td>0</td><td>0</td><td>0</td><td>0</td><td>0</td><td>0</td><td>0</td><td>0</td><td>0</td><td>0</td><td>0</td><td>0</td><td>0</td><td>0</td><td>0</td><td>0</td><td>0</td><td>0</td><td>&hellip;</td><td>0</td><td>0</td><td>0</td><td>0</td><td>0</td><td>0</td><td>0</td><td>0</td><td>0</td><td>0</td><td>0</td><td>0</td><td>0</td><td>0</td><td>0</td><td>0</td><td>0</td><td>0</td><td>0</td><td>0</td><td>0</td><td>0</td><td>0</td><td>0</td><td>0</td><td>0</td><td>0</td><td>0</td><td>0</td><td>0</td><td>0</td><td>0</td><td>0</td><td>0</td><td>0</td><td>0</td><td>0</td></tr><tr><td>3</td><td>40.76457</td><td>-73.98317</td><td>68</td><td>4.234107</td><td>true</td><td>0</td><td>0</td><td>0</td><td>0</td><td>0</td><td>0</td><td>0</td><td>0</td><td>0</td><td>0</td><td>0</td><td>0</td><td>0</td><td>0</td><td>0</td><td>0</td><td>0</td><td>0</td><td>0</td><td>0</td><td>0</td><td>0</td><td>0</td><td>0</td><td>0</td><td>0</td><td>0</td><td>0</td><td>0</td><td>0</td><td>0</td><td>&hellip;</td><td>0</td><td>0</td><td>0</td><td>0</td><td>0</td><td>0</td><td>0</td><td>0</td><td>0</td><td>0</td><td>0</td><td>0</td><td>0</td><td>0</td><td>0</td><td>0</td><td>0</td><td>0</td><td>0</td><td>0</td><td>0</td><td>0</td><td>0</td><td>0</td><td>0</td><td>0</td><td>0</td><td>0</td><td>0</td><td>0</td><td>0</td><td>0</td><td>0</td><td>0</td><td>0</td><td>0</td><td>0</td></tr><tr><td>4</td><td>40.66265</td><td>-73.99454</td><td>275</td><td>5.620401</td><td>true</td><td>0</td><td>0</td><td>0</td><td>0</td><td>0</td><td>0</td><td>0</td><td>0</td><td>0</td><td>0</td><td>0</td><td>0</td><td>0</td><td>0</td><td>0</td><td>0</td><td>0</td><td>0</td><td>0</td><td>0</td><td>0</td><td>0</td><td>0</td><td>0</td><td>0</td><td>0</td><td>0</td><td>0</td><td>0</td><td>0</td><td>0</td><td>&hellip;</td><td>0</td><td>0</td><td>0</td><td>0</td><td>0</td><td>0</td><td>0</td><td>0</td><td>0</td><td>0</td><td>0</td><td>0</td><td>0</td><td>0</td><td>0</td><td>0</td><td>0</td><td>0</td><td>0</td><td>0</td><td>0</td><td>0</td><td>0</td><td>0</td><td>0</td><td>0</td><td>0</td><td>0</td><td>0</td><td>0</td><td>0</td><td>0</td><td>0</td><td>0</td><td>0</td><td>0</td><td>0</td></tr></tbody></table></div>"
      ],
      "text/plain": [
       "shape: (5, 1_110)\n",
       "┌────────────┬──────────┬───────────┬───────┬───┬────────────┬────────────┬────────────┬───────────┐\n",
       "│ row_number ┆ latitude ┆ longitude ┆ price ┆ … ┆ geohash_dr ┆ geohash_dr ┆ geohash_dr ┆ geohash_d │\n",
       "│ ---        ┆ ---      ┆ ---       ┆ ---   ┆   ┆ 7834       ┆ 7880       ┆ 7885       ┆ r7887     │\n",
       "│ u32        ┆ f64      ┆ f64       ┆ i64   ┆   ┆ ---        ┆ ---        ┆ ---        ┆ ---       │\n",
       "│            ┆          ┆           ┆       ┆   ┆ u8         ┆ u8         ┆ u8         ┆ u8        │\n",
       "╞════════════╪══════════╪═══════════╪═══════╪═══╪════════════╪════════════╪════════════╪═══════════╡\n",
       "│ 0          ┆ 40.75356 ┆ -73.98559 ┆ 150   ┆ … ┆ 0          ┆ 0          ┆ 0          ┆ 0         │\n",
       "│ 1          ┆ 40.68535 ┆ -73.95512 ┆ 60    ┆ … ┆ 0          ┆ 0          ┆ 0          ┆ 0         │\n",
       "│ 2          ┆ 40.8038  ┆ -73.96751 ┆ 75    ┆ … ┆ 0          ┆ 0          ┆ 0          ┆ 0         │\n",
       "│ 3          ┆ 40.76457 ┆ -73.98317 ┆ 68    ┆ … ┆ 0          ┆ 0          ┆ 0          ┆ 0         │\n",
       "│ 4          ┆ 40.66265 ┆ -73.99454 ┆ 275   ┆ … ┆ 0          ┆ 0          ┆ 0          ┆ 0         │\n",
       "└────────────┴──────────┴───────────┴───────┴───┴────────────┴────────────┴────────────┴───────────┘"
      ]
     },
     "metadata": {},
     "output_type": "display_data"
    },
    {
     "name": "stdout",
     "output_type": "stream",
     "text": [
      "xgboost, 0.5920653 (sklearn)\n",
      "ridge regression, 0.5640281 (sklearn)\n"
     ]
    },
    {
     "ename": "KeyError",
     "evalue": "'`Styler.apply` and `.applymap` are not compatible with non-unique index or columns.'",
     "output_type": "error",
     "traceback": [
      "\u001b[0;31m---------------------------------------------------------------------------\u001b[0m",
      "\u001b[0;31mKeyError\u001b[0m                                  Traceback (most recent call last)",
      "Cell \u001b[0;32mIn[25], line 40\u001b[0m\n\u001b[1;32m     18\u001b[0m     \u001b[38;5;28mprint\u001b[39m(\u001b[38;5;124mf\u001b[39m\u001b[38;5;124m\"\u001b[39m\u001b[38;5;132;01m{\u001b[39;00mmodel_name\u001b[38;5;132;01m}\u001b[39;00m\u001b[38;5;124m, \u001b[39m\u001b[38;5;132;01m{\u001b[39;00mmean_squared_error(y_test,\u001b[38;5;250m \u001b[39my_predicted)\u001b[38;5;132;01m:\u001b[39;00m\u001b[38;5;124m.7f\u001b[39m\u001b[38;5;132;01m}\u001b[39;00m\u001b[38;5;124m (sklearn)\u001b[39m\u001b[38;5;124m\"\u001b[39m)\n\u001b[1;32m     20\u001b[0m geohash_categorical_results_df \u001b[38;5;241m=\u001b[39m (\n\u001b[1;32m     21\u001b[0m     pd\u001b[38;5;241m.\u001b[39mDataFrame\n\u001b[1;32m     22\u001b[0m     \u001b[38;5;241m.\u001b[39mfrom_records(model_performance_list)\n\u001b[0;32m   (...)\u001b[0m\n\u001b[1;32m     28\u001b[0m     )\n\u001b[1;32m     29\u001b[0m )\n\u001b[1;32m     31\u001b[0m display(\n\u001b[1;32m     32\u001b[0m     \u001b[43mpd\u001b[49m\u001b[38;5;241;43m.\u001b[39;49m\u001b[43mconcat\u001b[49m\u001b[43m(\u001b[49m\u001b[43m[\u001b[49m\n\u001b[1;32m     33\u001b[0m \u001b[43m        \u001b[49m\u001b[43mraw_lat_lon_results_df\u001b[49m\u001b[43m,\u001b[49m\n\u001b[1;32m     34\u001b[0m \u001b[43m        \u001b[49m\u001b[43mspatial_density_results_df\u001b[49m\u001b[43m,\u001b[49m\n\u001b[1;32m     35\u001b[0m \u001b[43m        \u001b[49m\u001b[43mgeohash_categorical_results_df\u001b[49m\n\u001b[1;32m     36\u001b[0m \u001b[43m    \u001b[49m\u001b[43m]\u001b[49m\u001b[43m)\u001b[49m\n\u001b[1;32m     37\u001b[0m \u001b[43m    \u001b[49m\u001b[38;5;241;43m.\u001b[39;49m\u001b[43mstyle\u001b[49m\n\u001b[1;32m     38\u001b[0m \u001b[43m    \u001b[49m\u001b[38;5;241;43m.\u001b[39;49m\u001b[43mformat\u001b[49m\u001b[43m(\u001b[49m\u001b[38;5;124;43m\"\u001b[39;49m\u001b[38;5;132;43;01m{:.3f}\u001b[39;49;00m\u001b[38;5;124;43m\"\u001b[39;49m\u001b[43m)\u001b[49m\n\u001b[1;32m     39\u001b[0m \u001b[43m    \u001b[49m\u001b[38;5;241;43m.\u001b[39;49m\u001b[43mbackground_gradient\u001b[49m\u001b[43m(\u001b[49m\u001b[43mvmin\u001b[49m\u001b[38;5;241;43m=\u001b[39;49m\u001b[38;5;241;43m0\u001b[39;49m\u001b[43m,\u001b[49m\u001b[43m \u001b[49m\u001b[43mvmax\u001b[49m\u001b[38;5;241;43m=\u001b[39;49m\u001b[38;5;241;43m1\u001b[39;49m\u001b[43m)\u001b[49m\n\u001b[0;32m---> 40\u001b[0m \u001b[43m    \u001b[49m\u001b[38;5;241;43m.\u001b[39;49m\u001b[43mto_html\u001b[49m\u001b[43m(\u001b[49m\u001b[43m)\u001b[49m\n\u001b[1;32m     41\u001b[0m )\n",
      "File \u001b[0;32m~/code/personal-website/code/.venv/lib/python3.10/site-packages/pandas/io/formats/style.py:1377\u001b[0m, in \u001b[0;36mStyler.to_html\u001b[0;34m(self, buf, table_uuid, table_attributes, sparse_index, sparse_columns, bold_headers, caption, max_rows, max_columns, encoding, doctype_html, exclude_styles, **kwargs)\u001b[0m\n\u001b[1;32m   1374\u001b[0m     obj\u001b[38;5;241m.\u001b[39mset_caption(caption)\n\u001b[1;32m   1376\u001b[0m \u001b[38;5;66;03m# Build HTML string..\u001b[39;00m\n\u001b[0;32m-> 1377\u001b[0m html \u001b[38;5;241m=\u001b[39m \u001b[43mobj\u001b[49m\u001b[38;5;241;43m.\u001b[39;49m\u001b[43m_render_html\u001b[49m\u001b[43m(\u001b[49m\n\u001b[1;32m   1378\u001b[0m \u001b[43m    \u001b[49m\u001b[43msparse_index\u001b[49m\u001b[38;5;241;43m=\u001b[39;49m\u001b[43msparse_index\u001b[49m\u001b[43m,\u001b[49m\n\u001b[1;32m   1379\u001b[0m \u001b[43m    \u001b[49m\u001b[43msparse_columns\u001b[49m\u001b[38;5;241;43m=\u001b[39;49m\u001b[43msparse_columns\u001b[49m\u001b[43m,\u001b[49m\n\u001b[1;32m   1380\u001b[0m \u001b[43m    \u001b[49m\u001b[43mmax_rows\u001b[49m\u001b[38;5;241;43m=\u001b[39;49m\u001b[43mmax_rows\u001b[49m\u001b[43m,\u001b[49m\n\u001b[1;32m   1381\u001b[0m \u001b[43m    \u001b[49m\u001b[43mmax_cols\u001b[49m\u001b[38;5;241;43m=\u001b[39;49m\u001b[43mmax_columns\u001b[49m\u001b[43m,\u001b[49m\n\u001b[1;32m   1382\u001b[0m \u001b[43m    \u001b[49m\u001b[43mexclude_styles\u001b[49m\u001b[38;5;241;43m=\u001b[39;49m\u001b[43mexclude_styles\u001b[49m\u001b[43m,\u001b[49m\n\u001b[1;32m   1383\u001b[0m \u001b[43m    \u001b[49m\u001b[43mencoding\u001b[49m\u001b[38;5;241;43m=\u001b[39;49m\u001b[43mencoding\u001b[49m\u001b[43m \u001b[49m\u001b[38;5;129;43;01mor\u001b[39;49;00m\u001b[43m \u001b[49m\u001b[43mget_option\u001b[49m\u001b[43m(\u001b[49m\u001b[38;5;124;43m\"\u001b[39;49m\u001b[38;5;124;43mstyler.render.encoding\u001b[39;49m\u001b[38;5;124;43m\"\u001b[39;49m\u001b[43m)\u001b[49m\u001b[43m,\u001b[49m\n\u001b[1;32m   1384\u001b[0m \u001b[43m    \u001b[49m\u001b[43mdoctype_html\u001b[49m\u001b[38;5;241;43m=\u001b[39;49m\u001b[43mdoctype_html\u001b[49m\u001b[43m,\u001b[49m\n\u001b[1;32m   1385\u001b[0m \u001b[43m    \u001b[49m\u001b[38;5;241;43m*\u001b[39;49m\u001b[38;5;241;43m*\u001b[39;49m\u001b[43mkwargs\u001b[49m\u001b[43m,\u001b[49m\n\u001b[1;32m   1386\u001b[0m \u001b[43m\u001b[49m\u001b[43m)\u001b[49m\n\u001b[1;32m   1388\u001b[0m \u001b[38;5;28;01mreturn\u001b[39;00m save_to_buffer(\n\u001b[1;32m   1389\u001b[0m     html, buf\u001b[38;5;241m=\u001b[39mbuf, encoding\u001b[38;5;241m=\u001b[39m(encoding \u001b[38;5;28;01mif\u001b[39;00m buf \u001b[38;5;129;01mis\u001b[39;00m \u001b[38;5;129;01mnot\u001b[39;00m \u001b[38;5;28;01mNone\u001b[39;00m \u001b[38;5;28;01melse\u001b[39;00m \u001b[38;5;28;01mNone\u001b[39;00m)\n\u001b[1;32m   1390\u001b[0m )\n",
      "File \u001b[0;32m~/code/personal-website/code/.venv/lib/python3.10/site-packages/pandas/io/formats/style_render.py:206\u001b[0m, in \u001b[0;36mStylerRenderer._render_html\u001b[0;34m(self, sparse_index, sparse_columns, max_rows, max_cols, **kwargs)\u001b[0m\n\u001b[1;32m    194\u001b[0m \u001b[38;5;28;01mdef\u001b[39;00m \u001b[38;5;21m_render_html\u001b[39m(\n\u001b[1;32m    195\u001b[0m     \u001b[38;5;28mself\u001b[39m,\n\u001b[1;32m    196\u001b[0m     sparse_index: \u001b[38;5;28mbool\u001b[39m,\n\u001b[0;32m   (...)\u001b[0m\n\u001b[1;32m    200\u001b[0m     \u001b[38;5;241m*\u001b[39m\u001b[38;5;241m*\u001b[39mkwargs,\n\u001b[1;32m    201\u001b[0m ) \u001b[38;5;241m-\u001b[39m\u001b[38;5;241m>\u001b[39m \u001b[38;5;28mstr\u001b[39m:\n\u001b[1;32m    202\u001b[0m \u001b[38;5;250m    \u001b[39m\u001b[38;5;124;03m\"\"\"\u001b[39;00m\n\u001b[1;32m    203\u001b[0m \u001b[38;5;124;03m    Renders the ``Styler`` including all applied styles to HTML.\u001b[39;00m\n\u001b[1;32m    204\u001b[0m \u001b[38;5;124;03m    Generates a dict with necessary kwargs passed to jinja2 template.\u001b[39;00m\n\u001b[1;32m    205\u001b[0m \u001b[38;5;124;03m    \"\"\"\u001b[39;00m\n\u001b[0;32m--> 206\u001b[0m     d \u001b[38;5;241m=\u001b[39m \u001b[38;5;28;43mself\u001b[39;49m\u001b[38;5;241;43m.\u001b[39;49m\u001b[43m_render\u001b[49m\u001b[43m(\u001b[49m\u001b[43msparse_index\u001b[49m\u001b[43m,\u001b[49m\u001b[43m \u001b[49m\u001b[43msparse_columns\u001b[49m\u001b[43m,\u001b[49m\u001b[43m \u001b[49m\u001b[43mmax_rows\u001b[49m\u001b[43m,\u001b[49m\u001b[43m \u001b[49m\u001b[43mmax_cols\u001b[49m\u001b[43m,\u001b[49m\u001b[43m \u001b[49m\u001b[38;5;124;43m\"\u001b[39;49m\u001b[38;5;124;43m&nbsp;\u001b[39;49m\u001b[38;5;124;43m\"\u001b[39;49m\u001b[43m)\u001b[49m\n\u001b[1;32m    207\u001b[0m     d\u001b[38;5;241m.\u001b[39mupdate(kwargs)\n\u001b[1;32m    208\u001b[0m     \u001b[38;5;28;01mreturn\u001b[39;00m \u001b[38;5;28mself\u001b[39m\u001b[38;5;241m.\u001b[39mtemplate_html\u001b[38;5;241m.\u001b[39mrender(\n\u001b[1;32m    209\u001b[0m         \u001b[38;5;241m*\u001b[39m\u001b[38;5;241m*\u001b[39md,\n\u001b[1;32m    210\u001b[0m         html_table_tpl\u001b[38;5;241m=\u001b[39m\u001b[38;5;28mself\u001b[39m\u001b[38;5;241m.\u001b[39mtemplate_html_table,\n\u001b[1;32m    211\u001b[0m         html_style_tpl\u001b[38;5;241m=\u001b[39m\u001b[38;5;28mself\u001b[39m\u001b[38;5;241m.\u001b[39mtemplate_html_style,\n\u001b[1;32m    212\u001b[0m     )\n",
      "File \u001b[0;32m~/code/personal-website/code/.venv/lib/python3.10/site-packages/pandas/io/formats/style_render.py:163\u001b[0m, in \u001b[0;36mStylerRenderer._render\u001b[0;34m(self, sparse_index, sparse_columns, max_rows, max_cols, blank)\u001b[0m\n\u001b[1;32m    149\u001b[0m \u001b[38;5;28;01mdef\u001b[39;00m \u001b[38;5;21m_render\u001b[39m(\n\u001b[1;32m    150\u001b[0m     \u001b[38;5;28mself\u001b[39m,\n\u001b[1;32m    151\u001b[0m     sparse_index: \u001b[38;5;28mbool\u001b[39m,\n\u001b[0;32m   (...)\u001b[0m\n\u001b[1;32m    155\u001b[0m     blank: \u001b[38;5;28mstr\u001b[39m \u001b[38;5;241m=\u001b[39m \u001b[38;5;124m\"\u001b[39m\u001b[38;5;124m\"\u001b[39m,\n\u001b[1;32m    156\u001b[0m ):\n\u001b[1;32m    157\u001b[0m \u001b[38;5;250m    \u001b[39m\u001b[38;5;124;03m\"\"\"\u001b[39;00m\n\u001b[1;32m    158\u001b[0m \u001b[38;5;124;03m    Computes and applies styles and then generates the general render dicts.\u001b[39;00m\n\u001b[1;32m    159\u001b[0m \n\u001b[1;32m    160\u001b[0m \u001b[38;5;124;03m    Also extends the `ctx` and `ctx_index` attributes with those of concatenated\u001b[39;00m\n\u001b[1;32m    161\u001b[0m \u001b[38;5;124;03m    stylers for use within `_translate_latex`\u001b[39;00m\n\u001b[1;32m    162\u001b[0m \u001b[38;5;124;03m    \"\"\"\u001b[39;00m\n\u001b[0;32m--> 163\u001b[0m     \u001b[38;5;28;43mself\u001b[39;49m\u001b[38;5;241;43m.\u001b[39;49m\u001b[43m_compute\u001b[49m\u001b[43m(\u001b[49m\u001b[43m)\u001b[49m\n\u001b[1;32m    164\u001b[0m     dxs \u001b[38;5;241m=\u001b[39m []\n\u001b[1;32m    165\u001b[0m     ctx_len \u001b[38;5;241m=\u001b[39m \u001b[38;5;28mlen\u001b[39m(\u001b[38;5;28mself\u001b[39m\u001b[38;5;241m.\u001b[39mindex)\n",
      "File \u001b[0;32m~/code/personal-website/code/.venv/lib/python3.10/site-packages/pandas/io/formats/style_render.py:258\u001b[0m, in \u001b[0;36mStylerRenderer._compute\u001b[0;34m(self)\u001b[0m\n\u001b[1;32m    256\u001b[0m r \u001b[38;5;241m=\u001b[39m \u001b[38;5;28mself\u001b[39m\n\u001b[1;32m    257\u001b[0m \u001b[38;5;28;01mfor\u001b[39;00m func, args, kwargs \u001b[38;5;129;01min\u001b[39;00m \u001b[38;5;28mself\u001b[39m\u001b[38;5;241m.\u001b[39m_todo:\n\u001b[0;32m--> 258\u001b[0m     r \u001b[38;5;241m=\u001b[39m \u001b[43mfunc\u001b[49m\u001b[43m(\u001b[49m\u001b[38;5;28;43mself\u001b[39;49m\u001b[43m)\u001b[49m\u001b[43m(\u001b[49m\u001b[38;5;241;43m*\u001b[39;49m\u001b[43margs\u001b[49m\u001b[43m,\u001b[49m\u001b[43m \u001b[49m\u001b[38;5;241;43m*\u001b[39;49m\u001b[38;5;241;43m*\u001b[39;49m\u001b[43mkwargs\u001b[49m\u001b[43m)\u001b[49m\n\u001b[1;32m    259\u001b[0m \u001b[38;5;28;01mreturn\u001b[39;00m r\n",
      "File \u001b[0;32m~/code/personal-website/code/.venv/lib/python3.10/site-packages/pandas/io/formats/style.py:1762\u001b[0m, in \u001b[0;36mStyler._apply\u001b[0;34m(self, func, axis, subset, **kwargs)\u001b[0m\n\u001b[1;32m   1758\u001b[0m \u001b[38;5;28;01mif\u001b[39;00m \u001b[38;5;129;01mnot\u001b[39;00m \u001b[38;5;28mall\u001b[39m(result\u001b[38;5;241m.\u001b[39mcolumns\u001b[38;5;241m.\u001b[39misin(data\u001b[38;5;241m.\u001b[39mcolumns)):\n\u001b[1;32m   1759\u001b[0m     \u001b[38;5;28;01mraise\u001b[39;00m \u001b[38;5;167;01mValueError\u001b[39;00m(\n\u001b[1;32m   1760\u001b[0m         msg\u001b[38;5;241m.\u001b[39mformat(\u001b[38;5;124m\"\u001b[39m\u001b[38;5;124mcolumns\u001b[39m\u001b[38;5;124m\"\u001b[39m, result\u001b[38;5;241m.\u001b[39mcolumns\u001b[38;5;241m.\u001b[39mshape, data\u001b[38;5;241m.\u001b[39mcolumns\u001b[38;5;241m.\u001b[39mshape)\n\u001b[1;32m   1761\u001b[0m     )\n\u001b[0;32m-> 1762\u001b[0m \u001b[38;5;28;43mself\u001b[39;49m\u001b[38;5;241;43m.\u001b[39;49m\u001b[43m_update_ctx\u001b[49m\u001b[43m(\u001b[49m\u001b[43mresult\u001b[49m\u001b[43m)\u001b[49m\n\u001b[1;32m   1763\u001b[0m \u001b[38;5;28;01mreturn\u001b[39;00m \u001b[38;5;28mself\u001b[39m\n",
      "File \u001b[0;32m~/code/personal-website/code/.venv/lib/python3.10/site-packages/pandas/io/formats/style.py:1574\u001b[0m, in \u001b[0;36mStyler._update_ctx\u001b[0;34m(self, attrs)\u001b[0m\n\u001b[1;32m   1561\u001b[0m \u001b[38;5;250m\u001b[39m\u001b[38;5;124;03m\"\"\"\u001b[39;00m\n\u001b[1;32m   1562\u001b[0m \u001b[38;5;124;03mUpdate the state of the ``Styler`` for data cells.\u001b[39;00m\n\u001b[1;32m   1563\u001b[0m \n\u001b[0;32m   (...)\u001b[0m\n\u001b[1;32m   1571\u001b[0m \u001b[38;5;124;03m    matter.\u001b[39;00m\n\u001b[1;32m   1572\u001b[0m \u001b[38;5;124;03m\"\"\"\u001b[39;00m\n\u001b[1;32m   1573\u001b[0m \u001b[38;5;28;01mif\u001b[39;00m \u001b[38;5;129;01mnot\u001b[39;00m \u001b[38;5;28mself\u001b[39m\u001b[38;5;241m.\u001b[39mindex\u001b[38;5;241m.\u001b[39mis_unique \u001b[38;5;129;01mor\u001b[39;00m \u001b[38;5;129;01mnot\u001b[39;00m \u001b[38;5;28mself\u001b[39m\u001b[38;5;241m.\u001b[39mcolumns\u001b[38;5;241m.\u001b[39mis_unique:\n\u001b[0;32m-> 1574\u001b[0m     \u001b[38;5;28;01mraise\u001b[39;00m \u001b[38;5;167;01mKeyError\u001b[39;00m(\n\u001b[1;32m   1575\u001b[0m         \u001b[38;5;124m\"\u001b[39m\u001b[38;5;124m`Styler.apply` and `.applymap` are not compatible \u001b[39m\u001b[38;5;124m\"\u001b[39m\n\u001b[1;32m   1576\u001b[0m         \u001b[38;5;124m\"\u001b[39m\u001b[38;5;124mwith non-unique index or columns.\u001b[39m\u001b[38;5;124m\"\u001b[39m\n\u001b[1;32m   1577\u001b[0m     )\n\u001b[1;32m   1579\u001b[0m \u001b[38;5;28;01mfor\u001b[39;00m cn \u001b[38;5;129;01min\u001b[39;00m attrs\u001b[38;5;241m.\u001b[39mcolumns:\n\u001b[1;32m   1580\u001b[0m     j \u001b[38;5;241m=\u001b[39m \u001b[38;5;28mself\u001b[39m\u001b[38;5;241m.\u001b[39mcolumns\u001b[38;5;241m.\u001b[39mget_loc(cn)\n",
      "\u001b[0;31mKeyError\u001b[0m: '`Styler.apply` and `.applymap` are not compatible with non-unique index or columns.'"
     ]
    }
   ],
   "source": [
    "df_w_geohash_ohe = add_geohash_one_hot_encoded_category_columns_to_dataframe(df)\n",
    "display(df_w_geohash_ohe.head())\n",
    "display(df_w_geohash_ohe.filter(pl.col(\"is_train\")).head())\n",
    "\n",
    "MODEL_FEATURE_PATTERN = \"^geohash_.*$\"\n",
    "\n",
    "X_train = df_w_geohash_ohe.filter(pl.col(\"is_train\")).select(pl.col(MODEL_FEATURE_PATTERN))\n",
    "y_train = df_w_geohash_ohe.filter(pl.col(\"is_train\")).select(MODEL_TARGET)\n",
    "X_test = df_w_geohash_ohe.filter(~pl.col(\"is_train\")).select(pl.col(MODEL_FEATURE_PATTERN))\n",
    "y_test = df_w_geohash_ohe.filter(~pl.col(\"is_train\")).select(MODEL_TARGET).to_numpy()\n",
    "\n",
    "for model_name, model_class in zip(\n",
    "    [\"xgboost\", \"ridge regression\"],\n",
    "    [XGBRegressor, Ridge]\n",
    "):\n",
    "    model = model_class().fit(X_train, y_train)\n",
    "    y_predicted = model.predict(X_test)\n",
    "    print(f\"{model_name}, {mean_squared_error(y_test, y_predicted):.7f} (sklearn)\")\n",
    "\n",
    "geohash_categorical_results_df = (\n",
    "    pd.DataFrame\n",
    "    .from_records(model_performance_list)\n",
    "    .pivot_table(\n",
    "        index=\"feature_list_name\",\n",
    "        columns=\"model_name\",\n",
    "        values=\"model_performance\",\n",
    "        aggfunc=\"first\"\n",
    "    )\n",
    ")\n",
    "\n",
    "display(\n",
    "    pd.concat([\n",
    "        raw_lat_lon_results_df,\n",
    "        spatial_density_results_df,\n",
    "        geohash_categorical_results_df\n",
    "    ])\n",
    "    .style\n",
    "    .format(\"{:.3f}\")\n",
    "    .background_gradient(vmin=0, vmax=1)\n",
    "    .to_html()\n",
    ")"
   ]
  },
  {
   "cell_type": "markdown",
   "id": "19b99401",
   "metadata": {},
   "source": [
    "### 1.4 Geohash Target Encoding"
   ]
  },
  {
   "cell_type": "code",
   "execution_count": null,
   "id": "69a6a972",
   "metadata": {},
   "outputs": [],
   "source": [
    "df = (\n",
    "    df\n",
    "    .join(\n",
    "        df\n",
    "        .filter(pl.col(\"is_train\"))\n",
    "        .groupby(f\"geohash_{geohash_precision}\")\n",
    "        .agg([\n",
    "            pl.col(\"price\").median().alias(\"geohash_price_median\"),\n",
    "            pl.col(\"price\").max().alias(\"geohash_price_max\"),\n",
    "        ]),\n",
    "        on=f\"geohash_{geohash_precision}\",\n",
    "        how=\"left\"\n",
    "    )\n",
    "    .join(\n",
    "        df\n",
    "        # .filter(pl.col(\"is_train\"))\n",
    "        .groupby(f\"geohash_{geohash_precision}\")\n",
    "        .agg([\n",
    "            pl.col(\"price\").count().alias(\"geohash_price_count\"),\n",
    "        ]),\n",
    "        on=f\"geohash_{geohash_precision}\",\n",
    "        how=\"left\"\n",
    "    )\n",
    ")"
   ]
  },
  {
   "cell_type": "code",
   "execution_count": null,
   "id": "b7d06985",
   "metadata": {},
   "outputs": [],
   "source": [
    "MODEL_FEATURE_LIST = [\n",
    "    \"geohash_price_count\",\n",
    "    \"geohash_price_median\",\n",
    "    \"geohash_price_max\",\n",
    "]\n",
    "\n",
    "X_train = df.filter(pl.col(\"is_train\") & pl.col(\"geohash_price_max\").is_not_null()).select(MODEL_FEATURE_LIST)\n",
    "y_train = df.filter(pl.col(\"is_train\") & pl.col(\"geohash_price_max\").is_not_null()).select(MODEL_TARGET)\n",
    "X_test = df.filter(~pl.col(\"is_train\") & pl.col(\"geohash_price_max\").is_not_null()).select(MODEL_FEATURE_LIST)\n",
    "y_test = df.filter(~pl.col(\"is_train\") & pl.col(\"geohash_price_max\").is_not_null()).select(MODEL_TARGET).to_numpy()\n",
    "\n",
    "for model_name, model_class in zip(\n",
    "    [\"xgboost\", \"linear regression\", \"ridge regression\"],\n",
    "    [XGBRegressor, LinearRegression, Ridge]\n",
    "):\n",
    "    model = model_class().fit(X_train, y_train)\n",
    "    y_predicted = model.predict(X_test)\n",
    "    print(f\"{model_name}, {mean_squared_error(y_test, y_predicted):.7f} (sklearn)\")"
   ]
  }
 ],
 "metadata": {
  "kernelspec": {
   "display_name": "Python 3 (ipykernel)",
   "language": "python",
   "name": "python3"
  },
  "language_info": {
   "codemirror_mode": {
    "name": "ipython",
    "version": 3
   },
   "file_extension": ".py",
   "mimetype": "text/x-python",
   "name": "python",
   "nbconvert_exporter": "python",
   "pygments_lexer": "ipython3",
   "version": "3.10.13"
  }
 },
 "nbformat": 4,
 "nbformat_minor": 5
}
