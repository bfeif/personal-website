{
 "cells": [
  {
   "cell_type": "markdown",
   "id": "df358925",
   "metadata": {},
   "source": [
    "# Feature Engineering from Just Latitude and Longitude"
   ]
  },
  {
   "cell_type": "markdown",
   "id": "dd6ab9c9",
   "metadata": {},
   "source": [
    "The purpose of this notebook is to demonstrate a few feature engineering techniques that use only latitude and longitude.\n",
    "\n",
    "It compares these feature engineering techniques by using them on a prediction problem from Kaggle, \"Predicting Airbnb Prices\" ([dataset](https://www.kaggle.com/datasets/kritikseth/us-airbnb-open-data)).\n",
    "\n",
    "Tools used include `polars`, `numpy`, `matplotlib`, `xgboost`, `scikit-learn`, and `scipy`."
   ]
  },
  {
   "cell_type": "markdown",
   "id": "103eb7b9",
   "metadata": {
    "jp-MarkdownHeadingCollapsed": true
   },
   "source": [
    "## 0. Env"
   ]
  },
  {
   "cell_type": "markdown",
   "id": "246b48f6",
   "metadata": {},
   "source": [
    "#### Imports"
   ]
  },
  {
   "cell_type": "code",
   "execution_count": 1,
   "id": "e9321718",
   "metadata": {},
   "outputs": [],
   "source": [
    "import os\n",
    "import numpy as np\n",
    "import polars as pl\n",
    "import pandas as pd\n",
    "import matplotlib.pyplot as plt\n",
    "from xgboost import XGBRegressor\n",
    "from sklearn.linear_model import LinearRegression, Ridge\n",
    "from sklearn.neighbors import NearestNeighbors\n",
    "from sklearn.preprocessing import OneHotEncoder\n",
    "from sklearn.metrics import root_mean_squared_error\n",
    "import geohash2\n",
    "from scipy import spatial\n",
    "import plotly.graph_objects as go\n",
    "import plotly.express as px\n",
    "from typing import List, Optional"
   ]
  },
  {
   "cell_type": "markdown",
   "id": "60c6bf15",
   "metadata": {},
   "source": [
    "#### Constants"
   ]
  },
  {
   "cell_type": "code",
   "execution_count": 2,
   "id": "8209bf4b-f4f8-4e65-a427-8b13a40f6c4d",
   "metadata": {},
   "outputs": [],
   "source": [
    "home = \"../..\"\n",
    "images_dir = os.path.join(home, \"static/images/\")"
   ]
  },
  {
   "cell_type": "code",
   "execution_count": 3,
   "id": "c6f6728e",
   "metadata": {},
   "outputs": [],
   "source": [
    "TRAIN_TEST_SPLIT_FRACTION = 0.8\n",
    "MODEL_TARGET = \"price_log10\"\n",
    "GEOHASH_PRECISION = 6"
   ]
  },
  {
   "cell_type": "markdown",
   "id": "d61829e0",
   "metadata": {},
   "source": [
    "#### Helper Functions"
   ]
  },
  {
   "cell_type": "code",
   "execution_count": 4,
   "id": "a5e67176",
   "metadata": {},
   "outputs": [],
   "source": [
    "def plot_geo_df(\n",
    "    geo_df: pl.DataFrame,\n",
    "    colorby_column: str,\n",
    "    colorbar_tickvals: List[int],\n",
    "    colorbar_ticktext: List[str],\n",
    "    plot_title: str,\n",
    "    range_color: Optional[List[int]] = None,\n",
    "):\n",
    "    df_sample = geo_df.sample(fraction=.2, shuffle=True)\n",
    "    range_color = [1, int(geo_df[colorby_column].max()) + 1] if not range_color else range_color\n",
    "    fig = px.scatter_mapbox(\n",
    "        data_frame=df_sample,\n",
    "        lat=\"latitude\",\n",
    "        lon=\"longitude\",\n",
    "        color=colorby_column,\n",
    "        range_color=range_color\n",
    "    )\n",
    "    fig.update_layout(\n",
    "        mapbox_style=\"carto-positron\",\n",
    "        margin={\"r\":0, \"t\":0, \"l\":0, \"b\":0},\n",
    "        mapbox_bounds={\n",
    "            \"west\": -74.108,\n",
    "            \"east\": -73.763,\n",
    "            \"south\": 40.565,\n",
    "            \"north\": 40.886,\n",
    "        },\n",
    "        coloraxis_colorbar={\n",
    "            \"title\": plot_title,\n",
    "            \"tickvals\": colorbar_tickvals,\n",
    "            \"ticktext\": colorbar_ticktext,\n",
    "        },\n",
    "    )\n",
    "    fig.write_image(os.path.join(images_dir, f\"nyc-{plot_title.lower().replace(' ', '-')}.png\"))\n",
    "#     fig.show()"
   ]
  },
  {
   "cell_type": "markdown",
   "id": "ec299960",
   "metadata": {
    "jp-MarkdownHeadingCollapsed": true
   },
   "source": [
    "## 1. Load Data"
   ]
  },
  {
   "cell_type": "markdown",
   "id": "1a436e28",
   "metadata": {
    "heading_collapsed": true
   },
   "source": [
    "#### Choosing a target city for the problem... which city has the most data?"
   ]
  },
  {
   "cell_type": "code",
   "execution_count": 5,
   "id": "2e7409e5",
   "metadata": {
    "hidden": true
   },
   "outputs": [
    {
     "data": {
      "text/html": [
       "<div><style>\n",
       ".dataframe > thead > tr,\n",
       ".dataframe > tbody > tr {\n",
       "  text-align: right;\n",
       "  white-space: pre-wrap;\n",
       "}\n",
       "</style>\n",
       "<small>shape: (5, 2)</small><table border=\"1\" class=\"dataframe\"><thead><tr><th>city</th><th>count</th></tr><tr><td>str</td><td>u32</td></tr></thead><tbody><tr><td>&quot;New York City&quot;</td><td>42931</td></tr><tr><td>&quot;Los Angeles&quot;</td><td>42451</td></tr><tr><td>&quot;Broward County…</td><td>16899</td></tr><tr><td>&quot;Austin&quot;</td><td>14368</td></tr><tr><td>&quot;Clark County&quot;</td><td>13933</td></tr></tbody></table></div>"
      ],
      "text/plain": [
       "shape: (5, 2)\n",
       "┌────────────────┬───────┐\n",
       "│ city           ┆ count │\n",
       "│ ---            ┆ ---   │\n",
       "│ str            ┆ u32   │\n",
       "╞════════════════╪═══════╡\n",
       "│ New York City  ┆ 42931 │\n",
       "│ Los Angeles    ┆ 42451 │\n",
       "│ Broward County ┆ 16899 │\n",
       "│ Austin         ┆ 14368 │\n",
       "│ Clark County   ┆ 13933 │\n",
       "└────────────────┴───────┘"
      ]
     },
     "execution_count": 5,
     "metadata": {},
     "output_type": "execute_result"
    }
   ],
   "source": [
    "(\n",
    "    pl.read_csv(\"../data/AB_US_2023.csv\")\n",
    "    [\"city\"]\n",
    "    .value_counts()\n",
    "    .sort(by=\"count\", descending=True)\n",
    "    .head(5)\n",
    ")"
   ]
  },
  {
   "cell_type": "markdown",
   "id": "253f8d2b",
   "metadata": {
    "heading_collapsed": true
   },
   "source": [
    "#### Load data for New York City"
   ]
  },
  {
   "cell_type": "markdown",
   "id": "d135bad1-882c-415f-9178-5e2390027e9b",
   "metadata": {
    "hidden": true
   },
   "source": [
    "Normally we'd have to do `log1p`, but we can be quite certain here that nobody will be offering their Airbnb for free!"
   ]
  },
  {
   "cell_type": "code",
   "execution_count": 6,
   "id": "c0fb51b6",
   "metadata": {
    "hidden": true
   },
   "outputs": [],
   "source": [
    "df_query = (\n",
    "    pl.scan_csv(\"../data/AB_US_2023.csv\")\n",
    "    .filter(pl.col(\"city\") == \"New York City\")\n",
    "    .select(pl.col([\"latitude\", \"longitude\", \"price\"]))\n",
    "    .with_columns((pl.col(\"price\") + 1).log10().name.suffix(\"_log10\"))\n",
    ")"
   ]
  },
  {
   "cell_type": "code",
   "execution_count": 7,
   "id": "81a70175",
   "metadata": {
    "hidden": true
   },
   "outputs": [],
   "source": [
    "num_rows = df_query.collect().shape[0]\n",
    "df = (\n",
    "    df_query.collect()\n",
    "    # .sample(fraction=1, shuffle=True)\n",
    "    .with_row_index(name=\"row_number\")\n",
    "    .with_columns([\n",
    "        (pl.col(\"row_number\") < TRAIN_TEST_SPLIT_FRACTION * num_rows).alias(\"is_train\")\n",
    "    ])\n",
    ")"
   ]
  },
  {
   "cell_type": "markdown",
   "id": "00d0ea58",
   "metadata": {
    "heading_collapsed": true
   },
   "source": [
    "#### Viewing the data"
   ]
  },
  {
   "cell_type": "code",
   "execution_count": 8,
   "id": "14a020f2",
   "metadata": {
    "hidden": true
   },
   "outputs": [
    {
     "data": {
      "text/html": [
       "<div><style>\n",
       ".dataframe > thead > tr,\n",
       ".dataframe > tbody > tr {\n",
       "  text-align: right;\n",
       "  white-space: pre-wrap;\n",
       "}\n",
       "</style>\n",
       "<small>shape: (5, 6)</small><table border=\"1\" class=\"dataframe\"><thead><tr><th>row_number</th><th>latitude</th><th>longitude</th><th>price</th><th>price_log10</th><th>is_train</th></tr><tr><td>u32</td><td>f64</td><td>f64</td><td>i64</td><td>f64</td><td>bool</td></tr></thead><tbody><tr><td>0</td><td>40.75356</td><td>-73.98559</td><td>150</td><td>2.178977</td><td>true</td></tr><tr><td>1</td><td>40.68535</td><td>-73.95512</td><td>60</td><td>1.78533</td><td>true</td></tr><tr><td>2</td><td>40.8038</td><td>-73.96751</td><td>75</td><td>1.880814</td><td>true</td></tr><tr><td>3</td><td>40.76457</td><td>-73.98317</td><td>68</td><td>1.838849</td><td>true</td></tr><tr><td>4</td><td>40.66265</td><td>-73.99454</td><td>275</td><td>2.440909</td><td>true</td></tr></tbody></table></div>"
      ],
      "text/plain": [
       "shape: (5, 6)\n",
       "┌────────────┬──────────┬───────────┬───────┬─────────────┬──────────┐\n",
       "│ row_number ┆ latitude ┆ longitude ┆ price ┆ price_log10 ┆ is_train │\n",
       "│ ---        ┆ ---      ┆ ---       ┆ ---   ┆ ---         ┆ ---      │\n",
       "│ u32        ┆ f64      ┆ f64       ┆ i64   ┆ f64         ┆ bool     │\n",
       "╞════════════╪══════════╪═══════════╪═══════╪═════════════╪══════════╡\n",
       "│ 0          ┆ 40.75356 ┆ -73.98559 ┆ 150   ┆ 2.178977    ┆ true     │\n",
       "│ 1          ┆ 40.68535 ┆ -73.95512 ┆ 60    ┆ 1.78533     ┆ true     │\n",
       "│ 2          ┆ 40.8038  ┆ -73.96751 ┆ 75    ┆ 1.880814    ┆ true     │\n",
       "│ 3          ┆ 40.76457 ┆ -73.98317 ┆ 68    ┆ 1.838849    ┆ true     │\n",
       "│ 4          ┆ 40.66265 ┆ -73.99454 ┆ 275   ┆ 2.440909    ┆ true     │\n",
       "└────────────┴──────────┴───────────┴───────┴─────────────┴──────────┘"
      ]
     },
     "metadata": {},
     "output_type": "display_data"
    }
   ],
   "source": [
    "display(\n",
    "    df\n",
    "    .head()\n",
    ")"
   ]
  },
  {
   "cell_type": "markdown",
   "id": "d4f30e59",
   "metadata": {},
   "source": [
    "## 2. Brief EDA"
   ]
  },
  {
   "cell_type": "markdown",
   "id": "a1b3a111",
   "metadata": {},
   "source": [
    "#### Distribution of Prices"
   ]
  },
  {
   "cell_type": "code",
   "execution_count": 53,
   "id": "01b5f219",
   "metadata": {},
   "outputs": [
    {
     "data": {
      "image/png": "[encoded data removed]",
      "text/plain": [
       "<Figure size 1700x500 with 3 Axes>"
      ]
     },
     "metadata": {},
     "output_type": "display_data"
    }
   ],
   "source": [
    "fig, (ax1, ax2, ax3) = plt.subplots(1, 3, figsize=(17, 5))\n",
    "\n",
    "ax1.plot(df[\"price\"].sort(), np.linspace(0, 1, len(df)))\n",
    "ax1.set_xlabel(\"Price\")\n",
    "ax1.set_ylabel(\"ECDF\")\n",
    "ax1.set_title(\"ECDF of Airbnb Prices\")\n",
    "\n",
    "ax2.plot(df[\"price\"].sort(), np.linspace(0, 1, len(df)))\n",
    "ax2.set_xscale(\"log\")\n",
    "ax2.set_xlabel(\"Price\")\n",
    "ax2.set_ylabel(\"ECDF\")\n",
    "ax2.set_title(\"ECDF of Airbnb Prices (log x-axis)\")\n",
    "\n",
    "ax3.hist(df[\"price_log10\"], bins=55, density=False)\n",
    "ax3.set_xlabel(\"Log10(Price)\")\n",
    "ax3.set_ylabel(\"Number of Airbnbs\")\n",
    "ax3.set_title(\"Histogram of Log10(Airbnb Price)\")\n",
    "\n",
    "plt.savefig(os.path.join(images_dir, \"distribution-of-airbnb-price.png\"))"
   ]
  },
  {
   "cell_type": "markdown",
   "id": "606c66ad",
   "metadata": {
    "heading_collapsed": true
   },
   "source": [
    "#### Distribution over Space"
   ]
  },
  {
   "cell_type": "code",
   "execution_count": 10,
   "id": "9d0abd6c-2b05-4540-90c7-b3425ea81cd5",
   "metadata": {
    "hidden": true,
    "scrolled": false
   },
   "outputs": [],
   "source": [
    "plot_geo_df(\n",
    "    df,\n",
    "    colorby_column=\"price_log10\",\n",
    "    colorbar_tickvals=[1, 2, 3, 4, 5, 6],\n",
    "    colorbar_ticktext=[\"$10\", \"$100\", \"$1K\", \"$10K\", \"$100K\"],\n",
    "    plot_title=\"Airbnb Prices\",\n",
    ")"
   ]
  },
  {
   "cell_type": "markdown",
   "id": "71599f65",
   "metadata": {
    "heading_collapsed": true
   },
   "source": [
    "#### Correlation"
   ]
  },
  {
   "cell_type": "code",
   "execution_count": 11,
   "id": "15dcf853",
   "metadata": {
    "hidden": true
   },
   "outputs": [
    {
     "data": {
      "text/html": [
       "<div><style>\n",
       ".dataframe > thead > tr,\n",
       ".dataframe > tbody > tr {\n",
       "  text-align: right;\n",
       "  white-space: pre-wrap;\n",
       "}\n",
       "</style>\n",
       "<small>shape: (3, 3)</small><table border=\"1\" class=\"dataframe\"><thead><tr><th>latitude</th><th>longitude</th><th>price</th></tr><tr><td>f64</td><td>f64</td><td>f64</td></tr></thead><tbody><tr><td>1.0</td><td>0.046993</td><td>0.008133</td></tr><tr><td>0.046993</td><td>1.0</td><td>-0.058381</td></tr><tr><td>0.008133</td><td>-0.058381</td><td>1.0</td></tr></tbody></table></div>"
      ],
      "text/plain": [
       "shape: (3, 3)\n",
       "┌──────────┬───────────┬───────────┐\n",
       "│ latitude ┆ longitude ┆ price     │\n",
       "│ ---      ┆ ---       ┆ ---       │\n",
       "│ f64      ┆ f64       ┆ f64       │\n",
       "╞══════════╪═══════════╪═══════════╡\n",
       "│ 1.0      ┆ 0.046993  ┆ 0.008133  │\n",
       "│ 0.046993 ┆ 1.0       ┆ -0.058381 │\n",
       "│ 0.008133 ┆ -0.058381 ┆ 1.0       │\n",
       "└──────────┴───────────┴───────────┘"
      ]
     },
     "execution_count": 11,
     "metadata": {},
     "output_type": "execute_result"
    }
   ],
   "source": [
    "df.select([\"latitude\", \"longitude\", \"price\"]).corr()"
   ]
  },
  {
   "cell_type": "markdown",
   "id": "7dd3300b-7dcf-4449-b375-69e4cf8ea70c",
   "metadata": {},
   "source": [
    "## 3. Feature Engineering Experiments"
   ]
  },
  {
   "cell_type": "markdown",
   "id": "9055dc9e-9742-4571-97f8-2e4a30262ae2",
   "metadata": {},
   "source": [
    "### 3.0 Setup"
   ]
  },
  {
   "cell_type": "code",
   "execution_count": 12,
   "id": "0d4859b0",
   "metadata": {},
   "outputs": [],
   "source": [
    "MODEL_PERFORMANCE_LIST = []"
   ]
  },
  {
   "cell_type": "code",
   "execution_count": 13,
   "id": "0d373f90-bbd9-48e0-805c-c7824da52070",
   "metadata": {},
   "outputs": [],
   "source": [
    "X_train = df.filter(pl.col(\"is_train\"))#.select(MODEL_FEATURE_LIST)\n",
    "y_train = df.filter(pl.col(\"is_train\"))#.select(MODEL_TARGET)\n",
    "X_test = df.filter(~pl.col(\"is_train\"))#.select(MODEL_FEATURE_LIST)\n",
    "y_test = df.filter(~pl.col(\"is_train\"))#.select(MODEL_TARGET).to_numpy()"
   ]
  },
  {
   "cell_type": "markdown",
   "id": "8326a4f0",
   "metadata": {},
   "source": [
    "### 3.1 Raw Latitude and Longitude"
   ]
  },
  {
   "cell_type": "code",
   "execution_count": 14,
   "id": "0dcab314",
   "metadata": {},
   "outputs": [
    {
     "name": "stdout",
     "output_type": "stream",
     "text": [
      "{'feature_list_name': 'raw_lat_lon', 'model_name': 'xgboost', 'model_performance': 0.3252347470774259}\n",
      "{'feature_list_name': 'raw_lat_lon', 'model_name': 'ridge regression', 'model_performance': 0.36949645137312853}\n"
     ]
    }
   ],
   "source": [
    "MODEL_FEATURE_LIST_NAME = \"raw_lat_lon\"\n",
    "MODEL_FEATURE_LIST = [\"latitude\", \"longitude\"]\n",
    "\n",
    "for model_name, model_class in zip(\n",
    "    [\"xgboost\", \"ridge regression\"],\n",
    "    [XGBRegressor, Ridge]\n",
    "):\n",
    "    model = model_class().fit(\n",
    "        X_train.select(MODEL_FEATURE_LIST),\n",
    "        y_train.select(MODEL_TARGET)\n",
    "    )\n",
    "    y_predicted = model.predict(X_test.select(MODEL_FEATURE_LIST))\n",
    "    model_performance = root_mean_squared_error(y_test.select(MODEL_TARGET), y_predicted)\n",
    "    model_result = {\n",
    "        \"feature_list_name\": MODEL_FEATURE_LIST_NAME,\n",
    "        \"model_name\": model_name,\n",
    "        \"model_performance\": model_performance\n",
    "    }\n",
    "    print(model_result)\n",
    "    MODEL_PERFORMANCE_LIST.append(model_result)"
   ]
  },
  {
   "cell_type": "markdown",
   "id": "63f8f7e0",
   "metadata": {},
   "source": [
    "### 3.2 Neighborhood Density"
   ]
  },
  {
   "cell_type": "code",
   "execution_count": 15,
   "id": "b0499f71",
   "metadata": {},
   "outputs": [],
   "source": [
    "def add_density_feature_columns_to_dataframe(geo_df: pl.DataFrame) -> pl.DataFrame:\n",
    "    tree = spatial.cKDTree(df.select([\"latitude\", \"longitude\"]))\n",
    "    result = geo_df.with_columns(\n",
    "        pl.Series(\n",
    "            \"spatial_density\",\n",
    "            tree.query_ball_point(geo_df.select([\"latitude\", \"longitude\"]), .005, return_length=True)\n",
    "        )\n",
    "    )\n",
    "    return result"
   ]
  },
  {
   "cell_type": "code",
   "execution_count": 16,
   "id": "4a51dc43",
   "metadata": {},
   "outputs": [],
   "source": [
    "df_w_density = add_density_feature_columns_to_dataframe(df)\n",
    "plot_geo_df(\n",
    "    df_w_density,\n",
    "    colorby_column=\"spatial_density\",\n",
    "    colorbar_tickvals=None,\n",
    "    colorbar_ticktext=None,\n",
    "    plot_title=\"Airbnb Spatial Density\",\n",
    ")"
   ]
  },
  {
   "cell_type": "code",
   "execution_count": 17,
   "id": "ceb150a6",
   "metadata": {},
   "outputs": [
    {
     "name": "stdout",
     "output_type": "stream",
     "text": [
      "{'feature_list_name': 'spatial_density', 'model_name': 'xgboost', 'model_performance': 0.36708661879227245}\n",
      "{'feature_list_name': 'spatial_density', 'model_name': 'ridge regression', 'model_performance': 0.3655968169555768}\n"
     ]
    }
   ],
   "source": [
    "MODEL_FEATURE_LIST_NAME = \"spatial_density\"\n",
    "MODEL_FEATURE_LIST = [\"spatial_density\"]\n",
    "\n",
    "X_train = df_w_density.filter(pl.col(\"is_train\")).select(MODEL_FEATURE_LIST)\n",
    "y_train = df_w_density.filter(pl.col(\"is_train\")).select(MODEL_TARGET)\n",
    "X_test = df_w_density.filter(~pl.col(\"is_train\")).select(MODEL_FEATURE_LIST)\n",
    "y_test = df_w_density.filter(~pl.col(\"is_train\")).select(MODEL_TARGET).to_numpy()\n",
    "\n",
    "for model_name, model_class in zip(\n",
    "    [\"xgboost\", \"ridge regression\"],\n",
    "    [XGBRegressor, Ridge]\n",
    "):\n",
    "    model = model_class().fit(X_train, y_train)\n",
    "    y_predicted = model.predict(X_test)\n",
    "    model_performance = root_mean_squared_error(y_test, y_predicted)\n",
    "    model_result = {\n",
    "        \"feature_list_name\": MODEL_FEATURE_LIST_NAME,\n",
    "        \"model_name\": model_name,\n",
    "        \"model_performance\": model_performance\n",
    "    }\n",
    "    print(model_result)\n",
    "    MODEL_PERFORMANCE_LIST.append(model_result)"
   ]
  },
  {
   "cell_type": "markdown",
   "id": "4f185012",
   "metadata": {},
   "source": [
    "### 3.3 Geohash Target Encoding"
   ]
  },
  {
   "cell_type": "code",
   "execution_count": 18,
   "id": "65086006",
   "metadata": {
    "scrolled": false
   },
   "outputs": [],
   "source": [
    "def add_geohash_column_to_df(geo_df: pl.DataFrame) -> pl.DataFrame:\n",
    "    result = (\n",
    "        df\n",
    "        .with_columns(\n",
    "            df\n",
    "            .select(\"latitude\", \"longitude\")\n",
    "            .map_rows(\n",
    "                lambda x: geohash2.encode(x[0], x[1], precision=5),\n",
    "                return_dtype=pl.Utf8\n",
    "            )\n",
    "            .rename({\"map\": \"geohash\"})\n",
    "        )\n",
    "    )\n",
    "    return result\n",
    "\n",
    "\n",
    "def add_target_encoding_to_df(\n",
    "    dataframe: pl.DataFrame,\n",
    "    categorical_column: str = \"geohash\"\n",
    ") -> pl.DataFrame:\n",
    "    category_target_means = (\n",
    "        dataframe\n",
    "        .filter(pl.col(\"is_train\"))  # Only include train data to prevent test data leakage.\n",
    "        .group_by(categorical_column)\n",
    "        .agg(\n",
    "            pl.col(MODEL_TARGET).mean().alias(f\"{categorical_column}_{MODEL_TARGET}_mean\")\n",
    "        )\n",
    "    )\n",
    "    result = (\n",
    "        dataframe\n",
    "        .join(\n",
    "            category_target_means,\n",
    "            how=\"left\",\n",
    "            on=categorical_column\n",
    "        )\n",
    "    )\n",
    "    return result"
   ]
  },
  {
   "cell_type": "code",
   "execution_count": 19,
   "id": "b7d06985",
   "metadata": {},
   "outputs": [],
   "source": [
    "df_w_geohash = add_geohash_column_to_df(df)\n",
    "df_w_geohash_target_encoded = add_target_encoding_to_df(df_w_geohash)\n",
    "\n",
    "plot_geo_df(\n",
    "    geo_df=df_w_geohash_target_encoded,\n",
    "    colorby_column=f\"geohash_{MODEL_TARGET}_mean\",\n",
    "    colorbar_tickvals=[1, 2, 3, 4,],\n",
    "    colorbar_ticktext=[\"$10\", \"$100\", \"$1K\", \"$10K\"],\n",
    "    plot_title=\"Airbnb Geohash Price\",\n",
    "    range_color=[1.5, 3]\n",
    ")"
   ]
  },
  {
   "cell_type": "code",
   "execution_count": 20,
   "id": "02b7aa28",
   "metadata": {},
   "outputs": [
    {
     "name": "stdout",
     "output_type": "stream",
     "text": [
      "{'feature_list_name': 'geohash_target_encoding', 'model_name': 'xgboost', 'model_performance': 0.33247380408202365}\n",
      "{'feature_list_name': 'geohash_target_encoding', 'model_name': 'ridge regression', 'model_performance': 0.3325121541141616}\n"
     ]
    }
   ],
   "source": [
    "MODEL_FEATURE_LIST_NAME = \"geohash_target_encoding\"\n",
    "MODEL_FEATURE_LIST = [\n",
    "    \"geohash_price_log10_mean\",\n",
    "]\n",
    "\n",
    "X_train = df_w_geohash_target_encoded.filter(pl.col(\"is_train\")).select(MODEL_FEATURE_LIST)\n",
    "y_train = df_w_geohash_target_encoded.filter(pl.col(\"is_train\")).select(MODEL_TARGET)\n",
    "X_test = df_w_geohash_target_encoded.filter(~pl.col(\"is_train\")).select(MODEL_FEATURE_LIST)\n",
    "y_test = df_w_geohash_target_encoded.filter(~pl.col(\"is_train\")).select(MODEL_TARGET).to_numpy()\n",
    "\n",
    "for model_name, model_class in zip(\n",
    "    [\"xgboost\", \"ridge regression\"],\n",
    "    [XGBRegressor, Ridge]\n",
    "):\n",
    "    model = model_class().fit(X_train, y_train)\n",
    "    y_predicted = model.predict(X_test)\n",
    "    model_performance = root_mean_squared_error(y_test, y_predicted)\n",
    "    model_result = {\n",
    "        \"feature_list_name\": MODEL_FEATURE_LIST_NAME,\n",
    "        \"model_name\": model_name,\n",
    "        \"model_performance\": model_performance\n",
    "    }\n",
    "    print(model_result)\n",
    "    MODEL_PERFORMANCE_LIST.append(model_result)"
   ]
  },
  {
   "cell_type": "markdown",
   "id": "e40439f8",
   "metadata": {},
   "source": [
    "### 3.4 All the features together"
   ]
  },
  {
   "cell_type": "code",
   "execution_count": 21,
   "id": "55023a9f",
   "metadata": {},
   "outputs": [
    {
     "name": "stdout",
     "output_type": "stream",
     "text": [
      "{'feature_list_name': 'all_features', 'model_name': 'xgboost', 'model_performance': 0.32453200273943666}\n",
      "{'feature_list_name': 'all_features', 'model_name': 'ridge regression', 'model_performance': 0.33275123037696347}\n"
     ]
    }
   ],
   "source": [
    "df_w_all_features = add_density_feature_columns_to_dataframe(\n",
    "    add_target_encoding_to_df(\n",
    "        add_geohash_column_to_df(df)\n",
    "    )\n",
    ")\n",
    "\n",
    "MODEL_FEATURE_LIST_NAME = \"all_features\"\n",
    "MODEL_FEATURE_LIST = [\n",
    "    \"latitude\",\n",
    "    \"longitude\",\n",
    "    \"spatial_density\",\n",
    "    \"geohash_price_log10_mean\",\n",
    "]\n",
    "\n",
    "X_train = df_w_all_features.filter(pl.col(\"is_train\")).select(MODEL_FEATURE_LIST)\n",
    "y_train = df_w_all_features.filter(pl.col(\"is_train\")).select(MODEL_TARGET)\n",
    "X_test = df_w_all_features.filter(~pl.col(\"is_train\")).select(MODEL_FEATURE_LIST)\n",
    "y_test = df_w_all_features.filter(~pl.col(\"is_train\")).select(MODEL_TARGET).to_numpy()\n",
    "\n",
    "for model_name, model_class in zip(\n",
    "    [\"xgboost\", \"ridge regression\"],\n",
    "    [XGBRegressor, Ridge]\n",
    "):\n",
    "    model = model_class().fit(X_train, y_train)\n",
    "    y_predicted = model.predict(X_test)\n",
    "    model_performance = root_mean_squared_error(y_test, y_predicted)\n",
    "    model_result = {\n",
    "        \"feature_list_name\": MODEL_FEATURE_LIST_NAME,\n",
    "        \"model_name\": model_name,\n",
    "        \"model_performance\": model_performance\n",
    "    }\n",
    "    print(model_result)\n",
    "    MODEL_PERFORMANCE_LIST.append(model_result)"
   ]
  },
  {
   "cell_type": "markdown",
   "id": "686eb05e",
   "metadata": {},
   "source": [
    "### 3.5 Summary"
   ]
  },
  {
   "cell_type": "code",
   "execution_count": 43,
   "id": "5291b81c",
   "metadata": {},
   "outputs": [],
   "source": [
    "results_feature_set_order = [\n",
    "    \"raw_lat_lon\",\n",
    "    \"spatial_density\",\n",
    "    \"geohash_target_encoding\",\n",
    "    \"all_features\"\n",
    "]"
   ]
  },
  {
   "cell_type": "code",
   "execution_count": 44,
   "id": "1c203707",
   "metadata": {},
   "outputs": [],
   "source": [
    "results_summary_df = (\n",
    "    pd.DataFrame\n",
    "    .from_records(MODEL_PERFORMANCE_LIST)\n",
    "    .pivot_table(\n",
    "        index=\"feature_list_name\",\n",
    "        columns=\"model_name\",\n",
    "        values=\"model_performance\",\n",
    "        aggfunc=\"first\"\n",
    "    )\n",
    ")\n",
    "results_summary_df.columns.name = None\n",
    "results_summary_df.index.name = None"
   ]
  },
  {
   "cell_type": "code",
   "execution_count": 45,
   "id": "9c0ea6eb",
   "metadata": {},
   "outputs": [
    {
     "name": "stdout",
     "output_type": "stream",
     "text": [
      "<style type=\"text/css\">\n",
      "#T_8ee67_row0_col0 {\n",
      "  background-color: #1b7eb7;\n",
      "  color: #f1f1f1;\n",
      "}\n",
      "#T_8ee67_row0_col1 {\n",
      "  background-color: #d0d1e6;\n",
      "  color: #000000;\n",
      "}\n",
      "#T_8ee67_row1_col0 {\n",
      "  background-color: #2a88bc;\n",
      "  color: #f1f1f1;\n",
      "}\n",
      "#T_8ee67_row1_col1 {\n",
      "  background-color: #2484ba;\n",
      "  color: #f1f1f1;\n",
      "}\n",
      "#T_8ee67_row2_col0, #T_8ee67_row2_col1, #T_8ee67_row3_col0 {\n",
      "  background-color: #b7c5df;\n",
      "  color: #000000;\n",
      "}\n",
      "#T_8ee67_row3_col1 {\n",
      "  background-color: #d2d2e7;\n",
      "  color: #000000;\n",
      "}\n",
      "</style>\n",
      "<table id=\"T_8ee67\">\n",
      "  <thead>\n",
      "    <tr>\n",
      "      <th class=\"blank level0\" >&nbsp;</th>\n",
      "      <th id=\"T_8ee67_level0_col0\" class=\"col_heading level0 col0\" >ridge regression</th>\n",
      "      <th id=\"T_8ee67_level0_col1\" class=\"col_heading level0 col1\" >xgboost</th>\n",
      "    </tr>\n",
      "  </thead>\n",
      "  <tbody>\n",
      "    <tr>\n",
      "      <th id=\"T_8ee67_level0_row0\" class=\"row_heading level0 row0\" >raw_lat_lon</th>\n",
      "      <td id=\"T_8ee67_row0_col0\" class=\"data row0 col0\" >0.3695</td>\n",
      "      <td id=\"T_8ee67_row0_col1\" class=\"data row0 col1\" >0.3252</td>\n",
      "    </tr>\n",
      "    <tr>\n",
      "      <th id=\"T_8ee67_level0_row1\" class=\"row_heading level0 row1\" >spatial_density</th>\n",
      "      <td id=\"T_8ee67_row1_col0\" class=\"data row1 col0\" >0.3656</td>\n",
      "      <td id=\"T_8ee67_row1_col1\" class=\"data row1 col1\" >0.3671</td>\n",
      "    </tr>\n",
      "    <tr>\n",
      "      <th id=\"T_8ee67_level0_row2\" class=\"row_heading level0 row2\" >geohash_target_encoding</th>\n",
      "      <td id=\"T_8ee67_row2_col0\" class=\"data row2 col0\" >0.3325</td>\n",
      "      <td id=\"T_8ee67_row2_col1\" class=\"data row2 col1\" >0.3325</td>\n",
      "    </tr>\n",
      "    <tr>\n",
      "      <th id=\"T_8ee67_level0_row3\" class=\"row_heading level0 row3\" >all_features</th>\n",
      "      <td id=\"T_8ee67_row3_col0\" class=\"data row3 col0\" >0.3328</td>\n",
      "      <td id=\"T_8ee67_row3_col1\" class=\"data row3 col1\" >0.3245</td>\n",
      "    </tr>\n",
      "  </tbody>\n",
      "</table>\n",
      "\n"
     ]
    }
   ],
   "source": [
    "print(\n",
    "    results_summary_df\n",
    "    .loc[results_feature_set_order, :]\n",
    "    .style\n",
    "    .format(\"{:.4f}\")\n",
    "    .background_gradient(vmin=0.3, vmax=0.4)\n",
    "    .to_html()\n",
    ")"
   ]
  },
  {
   "cell_type": "markdown",
   "id": "5ef8f161",
   "metadata": {},
   "source": [
    "# Scratch"
   ]
  },
  {
   "cell_type": "code",
   "execution_count": null,
   "id": "a51ca28f",
   "metadata": {},
   "outputs": [],
   "source": [
    "# def add_geohash_one_hot_encoded_category_columns_to_dataframe(\n",
    "#     geo_df: pl.DataFrame,\n",
    "#     geohash_precision=6\n",
    "# ) -> pl.DataFrame:\n",
    "#     result = (\n",
    "#         add_geohash_category_column_to_dataframe(\n",
    "#             geo_df,\n",
    "#             geohash_precision=geohash_precision\n",
    "#         )\n",
    "#         .to_dummies(columns=\"geohash\")\n",
    "#     )\n",
    "#     return result"
   ]
  },
  {
   "cell_type": "code",
   "execution_count": null,
   "id": "aafe8c29",
   "metadata": {},
   "outputs": [],
   "source": [
    "# df_w_geohash_ohe = add_geohash_one_hot_encoded_category_columns_to_dataframe(df)\n",
    "# display(df_w_geohash_ohe.head())\n",
    "# display(df_w_geohash_ohe.filter(pl.col(\"is_train\")).head())\n",
    "\n",
    "# MODEL_FEATURE_PATTERN = \"^geohash_.*$\"\n",
    "\n",
    "# X_train = df_w_geohash_ohe.filter(pl.col(\"is_train\")).select(pl.col(MODEL_FEATURE_PATTERN))\n",
    "# y_train = df_w_geohash_ohe.filter(pl.col(\"is_train\")).select(MODEL_TARGET)\n",
    "# X_test = df_w_geohash_ohe.filter(~pl.col(\"is_train\")).select(pl.col(MODEL_FEATURE_PATTERN))\n",
    "# y_test = df_w_geohash_ohe.filter(~pl.col(\"is_train\")).select(MODEL_TARGET).to_numpy()\n",
    "\n",
    "# for model_name, model_class in zip(\n",
    "#     [\"xgboost\", \"ridge regression\"],\n",
    "#     [XGBRegressor, Ridge]\n",
    "# ):\n",
    "#     model = model_class().fit(X_train, y_train)\n",
    "#     y_predicted = model.predict(X_test)\n",
    "#     print(f\"{model_name}, {mean_squared_error(y_test, y_predicted):.7f} (sklearn)\")"
   ]
  },
  {
   "cell_type": "code",
   "execution_count": null,
   "id": "067a0555",
   "metadata": {},
   "outputs": [],
   "source": [
    "# geohash_categorical_results_df = (\n",
    "#     pd.DataFrame\n",
    "#     .from_records(model_performance_list)\n",
    "#     .pivot_table(\n",
    "#         index=\"feature_list_name\",\n",
    "#         columns=\"model_name\",\n",
    "#         values=\"model_performance\",\n",
    "#         aggfunc=\"first\"\n",
    "#     )\n",
    "# )\n",
    "\n",
    "# display(\n",
    "#     pd.concat([\n",
    "#         raw_lat_lon_results_df,\n",
    "#         spatial_density_results_df,\n",
    "#         geohash_categorical_results_df\n",
    "#     ])\n",
    "#     .style\n",
    "#     .format(\"{:.3f}\")\n",
    "#     .background_gradient(vmin=0, vmax=1)\n",
    "#     .to_html()\n",
    "# )"
   ]
  },
  {
   "cell_type": "code",
   "execution_count": null,
   "id": "2e235d62",
   "metadata": {},
   "outputs": [],
   "source": [
    "\n",
    "\n",
    "# print()\n",
    "# raw_lat_lon_results_df = (\n",
    "#     pd.DataFrame\n",
    "#     .from_records(model_performance_list)\n",
    "#     .pivot_table(\n",
    "#         index=\"feature_list_name\",\n",
    "#         columns=\"model_name\",\n",
    "#         values=\"model_performance\",\n",
    "#         aggfunc=\"first\"\n",
    "#     )\n",
    "# )\n",
    "# raw_lat_lon_results_df.index.name = None\n",
    "# raw_lat_lon_results_df.columns.name = None\n",
    "# raw_lat_lon_results_df = 10 ** raw_lat_lon_results_df\n",
    "\n",
    "# display(\n",
    "#     raw_lat_lon_results_df\n",
    "#     .style\n",
    "# #     .format(\"{:.2f}\")\n",
    "#     .background_gradient(vmin=0, vmax=1)\n",
    "#     # .to_html()\n",
    "# )"
   ]
  }
 ],
 "metadata": {
  "kernelspec": {
   "display_name": "Python 3 (ipykernel)",
   "language": "python",
   "name": "python3"
  },
  "language_info": {
   "codemirror_mode": {
    "name": "ipython",
    "version": 3
   },
   "file_extension": ".py",
   "mimetype": "text/x-python",
   "name": "python",
   "nbconvert_exporter": "python",
   "pygments_lexer": "ipython3",
   "version": "3.10.13"
  }
 },
 "nbformat": 4,
 "nbformat_minor": 5
}
