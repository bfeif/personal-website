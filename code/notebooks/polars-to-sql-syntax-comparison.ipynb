{
 "cells": [
  {
   "cell_type": "markdown",
   "id": "df358925",
   "metadata": {},
   "source": [
    "# Polars to SQL Syntax Comparison"
   ]
  },
  {
   "cell_type": "markdown",
   "id": "103eb7b9",
   "metadata": {
    "jp-MarkdownHeadingCollapsed": true
   },
   "source": [
    "## 0. Env"
   ]
  },
  {
   "cell_type": "markdown",
   "id": "246b48f6",
   "metadata": {},
   "source": [
    "#### Imports"
   ]
  },
  {
   "cell_type": "code",
   "execution_count": 1,
   "id": "e9321718",
   "metadata": {},
   "outputs": [],
   "source": [
    "import polars as pl"
   ]
  },
  {
   "cell_type": "code",
   "execution_count": 2,
   "id": "5c7cd7bb",
   "metadata": {},
   "outputs": [
    {
     "data": {
      "text/plain": [
       "polars.config.Config"
      ]
     },
     "execution_count": 2,
     "metadata": {},
     "output_type": "execute_result"
    }
   ],
   "source": [
    "pl.Config.set_fmt_str_lengths(90)"
   ]
  },
  {
   "cell_type": "markdown",
   "id": "ec299960",
   "metadata": {
    "jp-MarkdownHeadingCollapsed": true
   },
   "source": [
    "## 1. Create Data"
   ]
  },
  {
   "cell_type": "code",
   "execution_count": 4,
   "id": "42f6feab",
   "metadata": {},
   "outputs": [],
   "source": [
    "orders_data = [\n",
    "    [\"2024-01-02\", 50, \"001\"],\n",
    "    [\"2024-01-05\", 30, \"002\"],\n",
    "    [\"2024-01-20\", 44, \"001\"],\n",
    "    [\"2024-01-22\", 33, \"003\"],\n",
    "    [\"2024-01-29\", 25, \"002\"]\n",
    "]\n",
    "orders_schema = [\n",
    "    (\"order_date_utc\", pl.Utf8),\n",
    "    (\"order_value_usd\", pl.Float64),\n",
    "    (\"customer_id\", pl.Utf8)\n",
    "]\n",
    "orders = pl.LazyFrame(orders_data, schema=orders_schema)"
   ]
  },
  {
   "cell_type": "code",
   "execution_count": 5,
   "id": "5739f2b8",
   "metadata": {},
   "outputs": [],
   "source": [
    "customers_data = [\n",
    "    [\"001\", False, \"Peter Pizza\"],\n",
    "    [\"002\", True, \"Danny Dumplings\"],\n",
    "    [\"003\", True, \"Barbara Burrito\"]\n",
    "]\n",
    "customers_schema = [\n",
    "    (\"customer_id\", pl.Utf8),\n",
    "    (\"is_premium_customer\", pl.Boolean),\n",
    "    (\"name\", pl.Utf8)\n",
    "]\n",
    "customers = pl.LazyFrame(customers_data, schema=customers_schema)"
   ]
  },
  {
   "cell_type": "markdown",
   "id": "65ff03cb",
   "metadata": {},
   "source": [
    "# 2. Queries"
   ]
  },
  {
   "cell_type": "markdown",
   "id": "66fcfbb1",
   "metadata": {},
   "source": [
    "## 2.1. Query \\#1: Select, Filter, and Sort"
   ]
  },
  {
   "cell_type": "code",
   "execution_count": 8,
   "id": "38c73682",
   "metadata": {},
   "outputs": [
    {
     "name": "stdout",
     "output_type": "stream",
     "text": [
      "shape: (3, 4)\n",
      "┌────────────────┬─────────────────┬─────────────┬─────────────────┐\n",
      "│ order_date_utc ┆ order_value_usd ┆ customer_id ┆ order_value_eur │\n",
      "│ ---            ┆ ---             ┆ ---         ┆ ---             │\n",
      "│ str            ┆ f64             ┆ str         ┆ f64             │\n",
      "╞════════════════╪═════════════════╪═════════════╪═════════════════╡\n",
      "│ 2024-01-22     ┆ 33.0            ┆ 003         ┆ 35.97           │\n",
      "│ 2024-01-20     ┆ 44.0            ┆ 001         ┆ 47.96           │\n",
      "│ 2024-01-02     ┆ 50.0            ┆ 001         ┆ 54.5            │\n",
      "└────────────────┴─────────────────┴─────────────┴─────────────────┘\n"
     ]
    }
   ],
   "source": [
    "usd_to_eur = 1.09\n",
    "\n",
    "print(\n",
    "\torders\n",
    "\t.with_columns([\n",
    "\t\tpl.col(\"order_value_usd\").mul(usd_to_eur).alias(\"order_value_eur\")\n",
    "\t])\n",
    "\t.filter(pl.col(\"order_value_usd\") > 30)\n",
    "\t.sort(by=pl.col(\"order_date_utc\"), descending=True)\n",
    "\t.collect()\n",
    ")"
   ]
  },
  {
   "cell_type": "markdown",
   "id": "11563711",
   "metadata": {},
   "source": [
    "## 2.2. Query \\#2: Joining and Aggregating"
   ]
  },
  {
   "cell_type": "code",
   "execution_count": 9,
   "id": "3a4a9b1c",
   "metadata": {},
   "outputs": [
    {
     "name": "stdout",
     "output_type": "stream",
     "text": [
      "shape: (3, 2)\n",
      "┌─────────────────┬─────────────────────┐\n",
      "│ name            ┆ sum_order_value_usd │\n",
      "│ ---             ┆ ---                 │\n",
      "│ str             ┆ f64                 │\n",
      "╞═════════════════╪═════════════════════╡\n",
      "│ Barbara Burrito ┆ 33.0                │\n",
      "│ Peter Pizza     ┆ 94.0                │\n",
      "│ Danny Dumplings ┆ 55.0                │\n",
      "└─────────────────┴─────────────────────┘\n"
     ]
    }
   ],
   "source": [
    "print(\n",
    "\torders\n",
    "\t.join(customers, on=\"customer_id\", how=\"left\")\n",
    "\t.group_by(\"name\")\n",
    "\t.agg(pl.col(\"order_value_usd\").sum().alias(\"sum_order_value_usd\"))\n",
    "\t.collect()\n",
    ")"
   ]
  },
  {
   "cell_type": "markdown",
   "id": "85c2c768",
   "metadata": {},
   "source": [
    "## 2.3. Query \\#3: CTEs and Window Functions"
   ]
  },
  {
   "cell_type": "code",
   "execution_count": 15,
   "id": "32431242",
   "metadata": {},
   "outputs": [
    {
     "name": "stdout",
     "output_type": "stream",
     "text": [
      "shape: (2, 2)\n",
      "┌─────────────────────┬─────────────────────┐\n",
      "│ is_premium_customer ┆ sum_order_value_usd │\n",
      "│ ---                 ┆ ---                 │\n",
      "│ bool                ┆ f64                 │\n",
      "╞═════════════════════╪═════════════════════╡\n",
      "│ true                ┆ 63.0                │\n",
      "│ false               ┆ 94.0                │\n",
      "└─────────────────────┴─────────────────────┘\n"
     ]
    }
   ],
   "source": [
    "orders_w_order_rank_column = (\n",
    "    orders\n",
    "    .join(customers, on=\"customer_id\", how=\"left\")\n",
    "    .with_columns([\n",
    "        pl.col(\"order_date_utc\").rank().over(pl.col(\"is_premium_customer\")).alias(\"order_rank\")\n",
    "    ])\n",
    ")\n",
    "\n",
    "print(\n",
    "    orders_w_order_rank_column\n",
    "    .filter(pl.col(\"order_rank\").le(2))\n",
    "    .group_by(pl.col(\"is_premium_customer\"))\n",
    "    .agg(pl.col(\"order_value_usd\").sum().name.prefix(\"sum_\"))\n",
    "    .collect()\n",
    ")"
   ]
  },
  {
   "cell_type": "code",
   "execution_count": null,
   "id": "8da14a83",
   "metadata": {},
   "outputs": [],
   "source": []
  }
 ],
 "metadata": {
  "kernelspec": {
   "display_name": "Python 3 (ipykernel)",
   "language": "python",
   "name": "python3"
  },
  "language_info": {
   "codemirror_mode": {
    "name": "ipython",
    "version": 3
   },
   "file_extension": ".py",
   "mimetype": "text/x-python",
   "name": "python",
   "nbconvert_exporter": "python",
   "pygments_lexer": "ipython3",
   "version": "3.10.13"
  }
 },
 "nbformat": 4,
 "nbformat_minor": 5
}
