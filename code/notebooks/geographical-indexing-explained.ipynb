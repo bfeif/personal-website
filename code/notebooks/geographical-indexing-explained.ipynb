{
 "cells": [
  {
   "cell_type": "markdown",
   "id": "e6331db1",
   "metadata": {},
   "source": [
    "# Geographical Indexing Explained"
   ]
  },
  {
   "cell_type": "code",
   "execution_count": 1,
   "id": "b360bf10",
   "metadata": {},
   "outputs": [],
   "source": [
    "import numpy as np\n",
    "import matplotlib.pyplot as plt"
   ]
  },
  {
   "cell_type": "markdown",
   "id": "e08a48ac",
   "metadata": {},
   "source": [
    "Geohash level 3 (0.7° by 0.7°)"
   ]
  },
  {
   "cell_type": "markdown",
   "id": "cd1cc73a",
   "metadata": {},
   "source": [
    "https://stackoverflow.com/a/39540339/7195218"
   ]
  },
  {
   "cell_type": "code",
   "execution_count": null,
   "id": "a6cd611b",
   "metadata": {},
   "outputs": [],
   "source": [
    "x = np.linspace(-90, 90, 100)\n",
    "latitude distance"
   ]
  }
 ],
 "metadata": {
  "kernelspec": {
   "display_name": "Python 3 (ipykernel)",
   "language": "python",
   "name": "python3"
  },
  "language_info": {
   "codemirror_mode": {
    "name": "ipython",
    "version": 3
   },
   "file_extension": ".py",
   "mimetype": "text/x-python",
   "name": "python",
   "nbconvert_exporter": "python",
   "pygments_lexer": "ipython3",
   "version": "3.10.13"
  }
 },
 "nbformat": 4,
 "nbformat_minor": 5
}
