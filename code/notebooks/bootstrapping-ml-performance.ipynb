{
 "cells": [
  {
   "cell_type": "markdown",
   "id": "df358925",
   "metadata": {},
   "source": [
    "# Bootstrapping ML Performance"
   ]
  },
  {
   "cell_type": "markdown",
   "id": "103eb7b9",
   "metadata": {
    "jp-MarkdownHeadingCollapsed": true
   },
   "source": [
    "## 0. Env"
   ]
  },
  {
   "cell_type": "markdown",
   "id": "246b48f6",
   "metadata": {},
   "source": [
    "#### Imports"
   ]
  },
  {
   "cell_type": "code",
   "execution_count": 13,
   "id": "e9321718",
   "metadata": {},
   "outputs": [],
   "source": [
    "import os\n",
    "import numpy as np\n",
    "import polars as pl\n",
    "import matplotlib.pyplot as plt\n",
    "from xgboost import XGBRegressor\n",
    "from sklearn.linear_model import LinearRegression, Ridge\n",
    "from sklearn.metrics import root_mean_squared_error\n",
    "import geohash2\n",
    "import plotly.graph_objects as go\n",
    "import plotly.express as px\n",
    "from typing import List, Optional"
   ]
  },
  {
   "cell_type": "code",
   "execution_count": 21,
   "id": "5c7cd7bb",
   "metadata": {},
   "outputs": [
    {
     "data": {
      "text/plain": [
       "polars.config.Config"
      ]
     },
     "execution_count": 21,
     "metadata": {},
     "output_type": "execute_result"
    }
   ],
   "source": [
    "pl.Config.set_tbl_rows(20)\n",
    "pl.Config.set_fmt_str_lengths(90)"
   ]
  },
  {
   "cell_type": "markdown",
   "id": "60c6bf15",
   "metadata": {},
   "source": [
    "#### Constants"
   ]
  },
  {
   "cell_type": "code",
   "execution_count": 3,
   "id": "8209bf4b-f4f8-4e65-a427-8b13a40f6c4d",
   "metadata": {},
   "outputs": [],
   "source": [
    "home = \"../..\"\n",
    "images_dir = os.path.join(home, \"static/images/\")"
   ]
  },
  {
   "cell_type": "code",
   "execution_count": 4,
   "id": "c6f6728e",
   "metadata": {},
   "outputs": [],
   "source": [
    "TRAIN_TEST_SPLIT_PERCENT = 80  # (max 100%)\n",
    "MODEL_TARGET = \"price_log10\"\n",
    "GEOHASH_PRECISION = 6"
   ]
  },
  {
   "cell_type": "code",
   "execution_count": 6,
   "id": "32584ab3",
   "metadata": {},
   "outputs": [],
   "source": [
    "MIAMI_MAP_BOUNDS = {\n",
    "    \"west\": -80.674245,\n",
    "    \"east\": -79.989138,\n",
    "    \"south\": 23.003683,\n",
    "    \"north\": 27.024563,\n",
    "}"
   ]
  },
  {
   "cell_type": "markdown",
   "id": "d61829e0",
   "metadata": {},
   "source": [
    "#### Helper Functions"
   ]
  },
  {
   "cell_type": "code",
   "execution_count": 7,
   "id": "a5e67176",
   "metadata": {},
   "outputs": [],
   "source": [
    "def plot_geo_df(\n",
    "    geo_df: pl.DataFrame,\n",
    "    colorby_column: str,\n",
    "    colorbar_tickvals: List[int],\n",
    "    colorbar_ticktext: List[str],\n",
    "    plot_title: str,\n",
    "    range_color: Optional[List[int]] = None,\n",
    "):\n",
    "    df_sample = geo_df.sample(fraction=1, shuffle=True)\n",
    "#     range_color = [int(geo_df[colorby_column].min()), int(geo_df[colorby_column].max()) + 1] if not range_color else range_color\n",
    "    range_color = [geo_df[colorby_column].min(), int(geo_df[colorby_column].max()) + 1] if not range_color else range_color\n",
    "    fig = px.scatter_mapbox(\n",
    "        data_frame=df_sample,\n",
    "        lat=\"latitude\",\n",
    "        lon=\"longitude\",\n",
    "        color=colorby_column,\n",
    "#         range_color=range_color,\n",
    "        size=[.01] * len(df_sample),\n",
    "        size_max=2.4\n",
    "    )\n",
    "    fig.update_layout(\n",
    "        mapbox_style=\"carto-positron\",\n",
    "        margin={\"r\":0, \"t\":0, \"l\":0, \"b\":0},\n",
    "        mapbox_bounds=MIAMI_MAP_BOUNDS,\n",
    "        coloraxis_colorbar={\n",
    "            \"title\": plot_title,\n",
    "            \"tickvals\": colorbar_tickvals,\n",
    "            \"ticktext\": colorbar_ticktext,\n",
    "        },\n",
    "    )\n",
    "    fig.write_image(os.path.join(images_dir, f\"miami-{plot_title.lower().replace(' ', '-')}.png\"))"
   ]
  },
  {
   "cell_type": "markdown",
   "id": "ec299960",
   "metadata": {
    "jp-MarkdownHeadingCollapsed": true
   },
   "source": [
    "## 1. Load Data"
   ]
  },
  {
   "cell_type": "code",
   "execution_count": 25,
   "id": "be1844e1",
   "metadata": {},
   "outputs": [],
   "source": [
    "# Data taken from https://www.openml.org/search?type=data&id=43093\n",
    "df = (\n",
    "    pl.read_csv(\"../data/miami-housing.csv\")\n",
    "    .with_columns([\n",
    "        pl.col(\"SALE_PRC\").alias(\"price\"),\n",
    "        pl.col([\"LATITUDE\", \"LONGITUDE\"]).name.to_lowercase()\n",
    "    ])\n",
    "    .with_columns([\n",
    "        pl.col(\"price\").log10().name.suffix(\"_log10\")\n",
    "    ])\n",
    "    .with_row_index(name=\"index\")\n",
    "    .select([\n",
    "        pl.col(\"index\").mod(10).lt(TRAIN_TEST_SPLIT_FRACTION * 10).alias(\"is_train\"),\n",
    "        \"latitude\",\n",
    "        \"longitude\",\n",
    "        \"price\",\n",
    "        \"price_log10\"\n",
    "    ])\n",
    ")"
   ]
  },
  {
   "cell_type": "markdown",
   "id": "d4f30e59",
   "metadata": {
    "heading_collapsed": true
   },
   "source": [
    "## 2. Brief EDA"
   ]
  },
  {
   "cell_type": "markdown",
   "id": "a1b3a111",
   "metadata": {
    "hidden": true
   },
   "source": [
    "#### Distribution of Prices"
   ]
  },
  {
   "cell_type": "code",
   "execution_count": 11,
   "id": "01b5f219",
   "metadata": {
    "hidden": true
   },
   "outputs": [
    {
     "data": {
      "image/png": "[encoded data removed]",
      "text/plain": [
       "<Figure size 1700x500 with 3 Axes>"
      ]
     },
     "metadata": {},
     "output_type": "display_data"
    }
   ],
   "source": [
    "fig, (ax1, ax2, ax3) = plt.subplots(1, 3, figsize=(17, 5))\n",
    "\n",
    "ax1.plot(df[\"price\"].sort(), np.linspace(0, 1, len(df)))\n",
    "ax1.set_xlabel(\"Price\")\n",
    "ax1.set_ylabel(\"ECDF\")\n",
    "ax1.set_title(\"ECDF of Home Sale Prices\")\n",
    "\n",
    "ax2.plot(df[\"price\"].sort(), np.linspace(0, 1, len(df)))\n",
    "ax2.set_xscale(\"log\")\n",
    "ax2.set_xlabel(\"Price\")\n",
    "ax2.set_ylabel(\"ECDF\")\n",
    "ax2.set_title(\"ECDF of Home Sale Prices (log x-axis)\")\n",
    "\n",
    "ax3.hist(df[\"price_log10\"], bins=55, density=False)\n",
    "ax3.set_xlabel(\"Log10(Price)\")\n",
    "ax3.set_ylabel(\"Number of Homes\")\n",
    "ax3.set_title(\"Histogram of Log10(Home Sale Price)\")\n",
    "\n",
    "plt.savefig(os.path.join(images_dir, \"distribution-of-home-sale-price.png\"))"
   ]
  },
  {
   "cell_type": "markdown",
   "id": "606c66ad",
   "metadata": {
    "hidden": true
   },
   "source": [
    "#### Distribution over Space"
   ]
  },
  {
   "cell_type": "code",
   "execution_count": 12,
   "id": "9d0abd6c-2b05-4540-90c7-b3425ea81cd5",
   "metadata": {
    "hidden": true
   },
   "outputs": [],
   "source": [
    "plot_geo_df(\n",
    "    df,\n",
    "    colorby_column=\"price_log10\",\n",
    "    colorbar_tickvals=[1, 2, 3, 4, 5, 6, 7, 8],\n",
    "    colorbar_ticktext=[\"$10\", \"$100\", \"$1K\", \"$10K\", \"$100K\", \"$1M\", \"$10M\", \"$100M\"],\n",
    "    plot_title=\"Home Sale Price\",\n",
    ")"
   ]
  },
  {
   "cell_type": "markdown",
   "id": "71599f65",
   "metadata": {
    "hidden": true
   },
   "source": [
    "#### Correlation"
   ]
  },
  {
   "cell_type": "code",
   "execution_count": 13,
   "id": "15dcf853",
   "metadata": {
    "hidden": true
   },
   "outputs": [
    {
     "data": {
      "text/html": [
       "<div><style>\n",
       ".dataframe > thead > tr,\n",
       ".dataframe > tbody > tr {\n",
       "  text-align: right;\n",
       "  white-space: pre-wrap;\n",
       "}\n",
       "</style>\n",
       "<small>shape: (3, 3)</small><table border=\"1\" class=\"dataframe\"><thead><tr><th>latitude</th><th>longitude</th><th>price</th></tr><tr><td>f64</td><td>f64</td><td>f64</td></tr></thead><tbody><tr><td>1.0</td><td>0.721232</td><td>0.047701</td></tr><tr><td>0.721232</td><td>1.0</td><td>0.195274</td></tr><tr><td>0.047701</td><td>0.195274</td><td>1.0</td></tr></tbody></table></div>"
      ],
      "text/plain": [
       "shape: (3, 3)\n",
       "┌──────────┬───────────┬──────────┐\n",
       "│ latitude ┆ longitude ┆ price    │\n",
       "│ ---      ┆ ---       ┆ ---      │\n",
       "│ f64      ┆ f64       ┆ f64      │\n",
       "╞══════════╪═══════════╪══════════╡\n",
       "│ 1.0      ┆ 0.721232  ┆ 0.047701 │\n",
       "│ 0.721232 ┆ 1.0       ┆ 0.195274 │\n",
       "│ 0.047701 ┆ 0.195274  ┆ 1.0      │\n",
       "└──────────┴───────────┴──────────┘"
      ]
     },
     "execution_count": 13,
     "metadata": {},
     "output_type": "execute_result"
    }
   ],
   "source": [
    "df.select([\"latitude\", \"longitude\", \"price\"]).corr()"
   ]
  },
  {
   "cell_type": "markdown",
   "id": "7dd3300b-7dcf-4449-b375-69e4cf8ea70c",
   "metadata": {},
   "source": [
    "## 3. Results"
   ]
  },
  {
   "cell_type": "code",
   "execution_count": 30,
   "id": "079679c8",
   "metadata": {},
   "outputs": [],
   "source": [
    "MODEL_PERFORMANCE_LIST = []"
   ]
  },
  {
   "cell_type": "code",
   "execution_count": 31,
   "id": "0dcab314",
   "metadata": {},
   "outputs": [],
   "source": [
    "MODEL_FEATURE_LIST_NAME = \"raw_lat_lon\"\n",
    "MODEL_FEATURE_LIST = [\"latitude\", \"longitude\"]\n",
    "X_train = df.filter(pl.col(\"is_train\"))\n",
    "y_train = df.filter(pl.col(\"is_train\"))\n",
    "X_test = df.filter(~pl.col(\"is_train\"))\n",
    "y_test = df.filter(~pl.col(\"is_train\"))\n",
    "\n",
    "for model_name, model_class in zip(\n",
    "    [\"xgboost\", \"ridge regression\"],\n",
    "    [XGBRegressor, Ridge]\n",
    "):\n",
    "    model = model_class().fit(\n",
    "        X_train.select(MODEL_FEATURE_LIST),\n",
    "        y_train.select(MODEL_TARGET)\n",
    "    )\n",
    "    y_predicted = model.predict(X_test.select(MODEL_FEATURE_LIST))\n",
    "    model_performance = root_mean_squared_error(y_test.select(MODEL_TARGET), y_predicted)\n",
    "    model_result = {\n",
    "        \"feature_list_name\": MODEL_FEATURE_LIST_NAME,\n",
    "        \"model_name\": model_name,\n",
    "        \"model_performance\": model_performance\n",
    "    }\n",
    "    MODEL_PERFORMANCE_LIST.append(model_result)"
   ]
  },
  {
   "cell_type": "markdown",
   "id": "686eb05e",
   "metadata": {},
   "source": [
    "### 3.5 Summary"
   ]
  },
  {
   "cell_type": "code",
   "execution_count": 32,
   "id": "5291b81c",
   "metadata": {},
   "outputs": [],
   "source": [
    "results_feature_set_order = [\n",
    "    \"raw_lat_lon\",\n",
    "#     \"spatial_density\",\n",
    "#     \"geohash_target_encoding\",\n",
    "#     \"all_features\"\n",
    "]"
   ]
  },
  {
   "cell_type": "code",
   "execution_count": 33,
   "id": "1c203707",
   "metadata": {},
   "outputs": [],
   "source": [
    "results_summary_df = (\n",
    "    pd.DataFrame\n",
    "    .from_records(MODEL_PERFORMANCE_LIST)\n",
    "    .pivot_table(\n",
    "        index=\"feature_list_name\",\n",
    "        columns=\"model_name\",\n",
    "        values=\"model_performance\",\n",
    "        aggfunc=\"first\"\n",
    "    )\n",
    ")\n",
    "results_summary_df.columns.name = None\n",
    "results_summary_df.index.name = None"
   ]
  },
  {
   "cell_type": "code",
   "execution_count": 34,
   "id": "9c0ea6eb",
   "metadata": {},
   "outputs": [
    {
     "name": "stdout",
     "output_type": "stream",
     "text": [
      "<style type=\"text/css\">\n",
      "#T_fbc5b_row0_col0 {\n",
      "  background-color: #023858;\n",
      "  color: #f1f1f1;\n",
      "}\n",
      "#T_fbc5b_row0_col1 {\n",
      "  background-color: #eee9f3;\n",
      "  color: #000000;\n",
      "}\n",
      "</style>\n",
      "<table id=\"T_fbc5b\">\n",
      "  <thead>\n",
      "    <tr>\n",
      "      <th class=\"blank level0\" >&nbsp;</th>\n",
      "      <th id=\"T_fbc5b_level0_col0\" class=\"col_heading level0 col0\" >ridge regression</th>\n",
      "      <th id=\"T_fbc5b_level0_col1\" class=\"col_heading level0 col1\" >xgboost</th>\n",
      "    </tr>\n",
      "  </thead>\n",
      "  <tbody>\n",
      "    <tr>\n",
      "      <th id=\"T_fbc5b_level0_row0\" class=\"row_heading level0 row0\" >raw_lat_lon</th>\n",
      "      <td id=\"T_fbc5b_row0_col0\" class=\"data row0 col0\" >0.24179</td>\n",
      "      <td id=\"T_fbc5b_row0_col1\" class=\"data row0 col1\" >0.11113</td>\n",
      "    </tr>\n",
      "  </tbody>\n",
      "</table>\n",
      "\n"
     ]
    }
   ],
   "source": [
    "print(\n",
    "    results_summary_df\n",
    "    .loc[results_feature_set_order, :]\n",
    "    .style\n",
    "    .format(\"{:.5f}\")\n",
    "    .background_gradient(vmin=0.1, vmax=0.2, axis=None)\n",
    "    .to_html()\n",
    ")"
   ]
  },
  {
   "cell_type": "code",
   "execution_count": null,
   "id": "61e5a12f",
   "metadata": {},
   "outputs": [],
   "source": []
  }
 ],
 "metadata": {
  "kernelspec": {
   "display_name": "Python 3 (ipykernel)",
   "language": "python",
   "name": "python3"
  },
  "language_info": {
   "codemirror_mode": {
    "name": "ipython",
    "version": 3
   },
   "file_extension": ".py",
   "mimetype": "text/x-python",
   "name": "python",
   "nbconvert_exporter": "python",
   "pygments_lexer": "ipython3",
   "version": "3.10.15"
  }
 },
 "nbformat": 4,
 "nbformat_minor": 5
}
